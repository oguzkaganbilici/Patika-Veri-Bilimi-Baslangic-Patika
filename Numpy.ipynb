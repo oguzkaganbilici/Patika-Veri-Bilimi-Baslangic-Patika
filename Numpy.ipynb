{
  "metadata": {
    "language_info": {
      "codemirror_mode": {
        "name": "python",
        "version": 3
      },
      "file_extension": ".py",
      "mimetype": "text/x-python",
      "name": "python",
      "nbconvert_exporter": "python",
      "pygments_lexer": "ipython3",
      "version": "3.8"
    },
    "kernelspec": {
      "name": "python",
      "display_name": "Python (Pyodide)",
      "language": "python"
    }
  },
  "nbformat_minor": 4,
  "nbformat": 4,
  "cells": [
    {
      "cell_type": "markdown",
      "source": "# Numpy\n- Neden Numpy?\n    - Çünkü Numpy sayesinde hızlı nümerik işlemler yapabiliriz.\n- C, C++ gibi makine diline yakın diller Python'dan daha hızlıdır. C dilinde yazılan Numpy kütüphanesi Python dilinde daha hızlı nümerik işlemler yapmamızı sağlar.",
      "metadata": {}
    },
    {
      "cell_type": "markdown",
      "source": "## Numpy Array\n- Numpy array, Python'daki list'lerden tek farkı farklı veri tipinde eleman içeremez. Array içinde ki veri tipi tamamiyle aynı olmalıdır.",
      "metadata": {}
    },
    {
      "cell_type": "markdown",
      "source": "### Listeden Array yaratmak",
      "metadata": {}
    },
    {
      "cell_type": "code",
      "source": "import numpy as np",
      "metadata": {
        "trusted": true
      },
      "execution_count": 1,
      "outputs": []
    },
    {
      "cell_type": "code",
      "source": "x = np.array([1,2,3,4,5])\nx",
      "metadata": {
        "trusted": true
      },
      "execution_count": 2,
      "outputs": [
        {
          "execution_count": 2,
          "output_type": "execute_result",
          "data": {
            "text/plain": "array([1, 2, 3, 4, 5])"
          },
          "metadata": {}
        }
      ]
    },
    {
      "cell_type": "code",
      "source": "type(x)",
      "metadata": {
        "trusted": true
      },
      "execution_count": 3,
      "outputs": [
        {
          "execution_count": 3,
          "output_type": "execute_result",
          "data": {
            "text/plain": "numpy.ndarray"
          },
          "metadata": {}
        }
      ]
    },
    {
      "cell_type": "markdown",
      "source": "- Bir array'a hem str hem de int verirsek, hata vermez fakat hepsini str'ye çevirir.",
      "metadata": {}
    },
    {
      "cell_type": "code",
      "source": "y = np.array([\"a\",\"b\",1,2,\"c\"])\ny",
      "metadata": {
        "trusted": true
      },
      "execution_count": 4,
      "outputs": [
        {
          "execution_count": 4,
          "output_type": "execute_result",
          "data": {
            "text/plain": "array(['a', 'b', '1', '2', 'c'], dtype='<U11')"
          },
          "metadata": {}
        }
      ]
    },
    {
      "cell_type": "markdown",
      "source": "- Bir array'a hem float hem de int verirsek, bütün sayıları float'a dönüstürür.",
      "metadata": {}
    },
    {
      "cell_type": "code",
      "source": "z = np.array([1,2,3,4.5,5.6,6,7])\nz",
      "metadata": {
        "trusted": true
      },
      "execution_count": 5,
      "outputs": [
        {
          "execution_count": 5,
          "output_type": "execute_result",
          "data": {
            "text/plain": "array([1. , 2. , 3. , 4.5, 5.6, 6. , 7. ])"
          },
          "metadata": {}
        }
      ]
    },
    {
      "cell_type": "markdown",
      "source": "- Bu durumda bir array için str>float>int gibi dusunebiliriz.",
      "metadata": {}
    },
    {
      "cell_type": "markdown",
      "source": "## Array'in Data Tipini Belirleme\n- Array'in elemanlarının tipinin ne olacağını manuel olarak belirleyebiliriz.",
      "metadata": {}
    },
    {
      "cell_type": "code",
      "source": "x = np.array([1,2,3,4.5], dtype=\"int32\")\nx",
      "metadata": {
        "trusted": true
      },
      "execution_count": 6,
      "outputs": [
        {
          "execution_count": 6,
          "output_type": "execute_result",
          "data": {
            "text/plain": "array([1, 2, 3, 4])"
          },
          "metadata": {}
        }
      ]
    },
    {
      "cell_type": "markdown",
      "source": "- dtype= \"..\" keyword'ü ile istediğimiz dönüsümü gerceklestirebiliriz",
      "metadata": {}
    },
    {
      "cell_type": "code",
      "source": "z = np.array([1,2,3,4,5], dtype=\"str\")\nz",
      "metadata": {
        "trusted": true
      },
      "execution_count": 7,
      "outputs": [
        {
          "execution_count": 7,
          "output_type": "execute_result",
          "data": {
            "text/plain": "array(['1', '2', '3', '4', '5'], dtype='<U1')"
          },
          "metadata": {}
        }
      ]
    },
    {
      "cell_type": "markdown",
      "source": "## Elemanları 0'dan oluşan bir array oluşturmak",
      "metadata": {}
    },
    {
      "cell_type": "code",
      "source": "np.zeros(10)",
      "metadata": {
        "trusted": true
      },
      "execution_count": 8,
      "outputs": [
        {
          "execution_count": 8,
          "output_type": "execute_result",
          "data": {
            "text/plain": "array([0., 0., 0., 0., 0., 0., 0., 0., 0., 0.])"
          },
          "metadata": {}
        }
      ]
    },
    {
      "cell_type": "markdown",
      "source": "- veri tipi belirtmediğimiz takdirde float olarak oluşturur.",
      "metadata": {}
    },
    {
      "cell_type": "code",
      "source": "np.zeros(10, dtype=\"str\")",
      "metadata": {
        "trusted": true
      },
      "execution_count": 9,
      "outputs": [
        {
          "execution_count": 9,
          "output_type": "execute_result",
          "data": {
            "text/plain": "array(['', '', '', '', '', '', '', '', '', ''], dtype='<U1')"
          },
          "metadata": {}
        }
      ]
    },
    {
      "cell_type": "markdown",
      "source": "## Elemanları 0'dan oluşan multidimensional array oluşturmak",
      "metadata": {}
    },
    {
      "cell_type": "markdown",
      "source": "- elemanları 0, 3 satır ve 4 sütunu olan bir array oluşturmak istersek",
      "metadata": {}
    },
    {
      "cell_type": "code",
      "source": "np.zeros((3,4))",
      "metadata": {
        "trusted": true
      },
      "execution_count": 10,
      "outputs": [
        {
          "execution_count": 10,
          "output_type": "execute_result",
          "data": {
            "text/plain": "array([[0., 0., 0., 0.],\n       [0., 0., 0., 0.],\n       [0., 0., 0., 0.]])"
          },
          "metadata": {}
        }
      ]
    },
    {
      "cell_type": "code",
      "source": "np.zeros([3,4], dtype=\"int\")",
      "metadata": {
        "trusted": true
      },
      "execution_count": 11,
      "outputs": [
        {
          "execution_count": 11,
          "output_type": "execute_result",
          "data": {
            "text/plain": "array([[0, 0, 0, 0],\n       [0, 0, 0, 0],\n       [0, 0, 0, 0]])"
          },
          "metadata": {}
        }
      ]
    },
    {
      "cell_type": "code",
      "source": "np.zeros([3,4], dtype=\"bool\")",
      "metadata": {
        "trusted": true
      },
      "execution_count": 12,
      "outputs": [
        {
          "execution_count": 12,
          "output_type": "execute_result",
          "data": {
            "text/plain": "array([[False, False, False, False],\n       [False, False, False, False],\n       [False, False, False, False]])"
          },
          "metadata": {}
        }
      ]
    },
    {
      "cell_type": "code",
      "source": "np.zeros([3,4,4])",
      "metadata": {
        "trusted": true
      },
      "execution_count": 13,
      "outputs": [
        {
          "execution_count": 13,
          "output_type": "execute_result",
          "data": {
            "text/plain": "array([[[0., 0., 0., 0.],\n        [0., 0., 0., 0.],\n        [0., 0., 0., 0.],\n        [0., 0., 0., 0.]],\n\n       [[0., 0., 0., 0.],\n        [0., 0., 0., 0.],\n        [0., 0., 0., 0.],\n        [0., 0., 0., 0.]],\n\n       [[0., 0., 0., 0.],\n        [0., 0., 0., 0.],\n        [0., 0., 0., 0.],\n        [0., 0., 0., 0.]]])"
          },
          "metadata": {}
        }
      ]
    },
    {
      "cell_type": "markdown",
      "source": "## Belirtilen Bir Elemandan Array Oluşturmak",
      "metadata": {}
    },
    {
      "cell_type": "code",
      "source": "np.full((4,5) ,5)",
      "metadata": {
        "trusted": true
      },
      "execution_count": 14,
      "outputs": [
        {
          "execution_count": 14,
          "output_type": "execute_result",
          "data": {
            "text/plain": "array([[5, 5, 5, 5, 5],\n       [5, 5, 5, 5, 5],\n       [5, 5, 5, 5, 5],\n       [5, 5, 5, 5, 5]])"
          },
          "metadata": {}
        }
      ]
    },
    {
      "cell_type": "markdown",
      "source": "- np.full( (x, y), z) fonksiyonundaki inputlar x,y büyüklüğünde elemanları z olur.",
      "metadata": {}
    },
    {
      "cell_type": "markdown",
      "source": "- veri olarak sadece int girmek zorunda değiliz",
      "metadata": {}
    },
    {
      "cell_type": "code",
      "source": "np.full( (4,5), \"a\")",
      "metadata": {
        "trusted": true
      },
      "execution_count": 15,
      "outputs": [
        {
          "execution_count": 15,
          "output_type": "execute_result",
          "data": {
            "text/plain": "array([['a', 'a', 'a', 'a', 'a'],\n       ['a', 'a', 'a', 'a', 'a'],\n       ['a', 'a', 'a', 'a', 'a'],\n       ['a', 'a', 'a', 'a', 'a']], dtype='<U1')"
          },
          "metadata": {}
        }
      ]
    },
    {
      "cell_type": "markdown",
      "source": "- 3. input olarak veri tipi de girebiliriz",
      "metadata": {}
    },
    {
      "cell_type": "code",
      "source": "np.full( (3,4) , 5.2, dtype=\"str\")",
      "metadata": {
        "trusted": true
      },
      "execution_count": 16,
      "outputs": [
        {
          "execution_count": 16,
          "output_type": "execute_result",
          "data": {
            "text/plain": "array([['5', '5', '5', '5'],\n       ['5', '5', '5', '5'],\n       ['5', '5', '5', '5']], dtype='<U1')"
          },
          "metadata": {}
        }
      ]
    },
    {
      "cell_type": "markdown",
      "source": "- fakat float bir değeri str'ye dönüştürürken ilk olarak int'e dönüştürür.\n- eğer str olarak bir float girmek istersek asagidaki sekilde girmemiz gerekir.",
      "metadata": {}
    },
    {
      "cell_type": "code",
      "source": "np.full( (4,5), \"5.2\")",
      "metadata": {
        "trusted": true
      },
      "execution_count": 17,
      "outputs": [
        {
          "execution_count": 17,
          "output_type": "execute_result",
          "data": {
            "text/plain": "array([['5.2', '5.2', '5.2', '5.2', '5.2'],\n       ['5.2', '5.2', '5.2', '5.2', '5.2'],\n       ['5.2', '5.2', '5.2', '5.2', '5.2'],\n       ['5.2', '5.2', '5.2', '5.2', '5.2']], dtype='<U3')"
          },
          "metadata": {}
        }
      ]
    },
    {
      "cell_type": "markdown",
      "source": "## Ardaşık Sayılardan Array Oluşturmak",
      "metadata": {}
    },
    {
      "cell_type": "markdown",
      "source": "- 0'dan 12'ye kadar sayılardan array oluşturmak istersek",
      "metadata": {}
    },
    {
      "cell_type": "code",
      "source": "np.arange(0,12)",
      "metadata": {
        "trusted": true
      },
      "execution_count": 18,
      "outputs": [
        {
          "execution_count": 18,
          "output_type": "execute_result",
          "data": {
            "text/plain": "array([ 0,  1,  2,  3,  4,  5,  6,  7,  8,  9, 10, 11])"
          },
          "metadata": {}
        }
      ]
    },
    {
      "cell_type": "markdown",
      "source": "- 2'şer artırarak sayıları almak istersek",
      "metadata": {}
    },
    {
      "cell_type": "code",
      "source": "np.arange(0,20,2)",
      "metadata": {
        "trusted": true
      },
      "execution_count": 19,
      "outputs": [
        {
          "execution_count": 19,
          "output_type": "execute_result",
          "data": {
            "text/plain": "array([ 0,  2,  4,  6,  8, 10, 12, 14, 16, 18])"
          },
          "metadata": {}
        }
      ]
    },
    {
      "cell_type": "markdown",
      "source": "## Aralığı Eşit Uzaklıktaki Noktalara Bölmek",
      "metadata": {}
    },
    {
      "cell_type": "markdown",
      "source": "- Örneğin 1 ve 2 arasını (1 ve 2 dahil) eşit uzaklıkta 50 noktaya bölmek istersek:",
      "metadata": {}
    },
    {
      "cell_type": "code",
      "source": "- np.linspace(1,2)",
      "metadata": {
        "trusted": true
      },
      "execution_count": 20,
      "outputs": [
        {
          "execution_count": 20,
          "output_type": "execute_result",
          "data": {
            "text/plain": "array([-1.        , -1.02040816, -1.04081633, -1.06122449, -1.08163265,\n       -1.10204082, -1.12244898, -1.14285714, -1.16326531, -1.18367347,\n       -1.20408163, -1.2244898 , -1.24489796, -1.26530612, -1.28571429,\n       -1.30612245, -1.32653061, -1.34693878, -1.36734694, -1.3877551 ,\n       -1.40816327, -1.42857143, -1.44897959, -1.46938776, -1.48979592,\n       -1.51020408, -1.53061224, -1.55102041, -1.57142857, -1.59183673,\n       -1.6122449 , -1.63265306, -1.65306122, -1.67346939, -1.69387755,\n       -1.71428571, -1.73469388, -1.75510204, -1.7755102 , -1.79591837,\n       -1.81632653, -1.83673469, -1.85714286, -1.87755102, -1.89795918,\n       -1.91836735, -1.93877551, -1.95918367, -1.97959184, -2.        ])"
          },
          "metadata": {}
        }
      ]
    },
    {
      "cell_type": "markdown",
      "source": "- Burada kaç nokta olduğunu vermezsek default olarak 50'ye böler\n- Eğer istediğimiz kadar aralığa bölmek istersek başlangıc ve bitis noktasından sonra num=x olarak istediğimiz kadar aralığa bölebiliriz",
      "metadata": {}
    },
    {
      "cell_type": "code",
      "source": "np.linspace(1,2, num=3)",
      "metadata": {
        "trusted": true
      },
      "execution_count": 21,
      "outputs": [
        {
          "execution_count": 21,
          "output_type": "execute_result",
          "data": {
            "text/plain": "array([1. , 1.5, 2. ])"
          },
          "metadata": {}
        }
      ]
    },
    {
      "cell_type": "markdown",
      "source": "- Normalde default olarak bitis elemanını da dahil eder. ama istersek endpoint = false ile bitiş noktasını dahil etmeyebiliriz",
      "metadata": {}
    },
    {
      "cell_type": "code",
      "source": "np.linspace(1,2, num=3, endpoint=False)",
      "metadata": {
        "trusted": true
      },
      "execution_count": 22,
      "outputs": [
        {
          "execution_count": 22,
          "output_type": "execute_result",
          "data": {
            "text/plain": "array([1.        , 1.33333333, 1.66666667])"
          },
          "metadata": {}
        }
      ]
    },
    {
      "cell_type": "markdown",
      "source": "## Normal Distribution'dan Çekilmiş Değerlerden Array Oluşturmak",
      "metadata": {}
    },
    {
      "cell_type": "markdown",
      "source": "- np.random.normal(mean, standart_sapma, (array_size)) ile bir array oluşturabiliriz\n",
      "metadata": {}
    },
    {
      "cell_type": "code",
      "source": "np.random.normal(0,1, (3,4))",
      "metadata": {
        "trusted": true
      },
      "execution_count": 23,
      "outputs": [
        {
          "execution_count": 23,
          "output_type": "execute_result",
          "data": {
            "text/plain": "array([[ 2.42383672, -1.25001334, -0.43805976,  0.38629643],\n       [-1.46016405,  0.10980051, -0.94459412, -1.26719909],\n       [ 0.18740502, -1.48496386, -0.61698618,  1.38995633]])"
          },
          "metadata": {}
        }
      ]
    },
    {
      "cell_type": "code",
      "source": "np.random.normal(0,100, (3,4))",
      "metadata": {
        "trusted": true
      },
      "execution_count": 24,
      "outputs": [
        {
          "execution_count": 24,
          "output_type": "execute_result",
          "data": {
            "text/plain": "array([[  97.79814043, -154.63716277,   -3.42728442,  -91.01337272],\n       [  -7.54077422,   85.88774328,  -19.63533122,  153.42454262],\n       [ -38.06479761, -111.53850718,  -94.6930374 ,  -17.60464578]])"
          },
          "metadata": {}
        }
      ]
    },
    {
      "cell_type": "markdown",
      "source": "## Random int'lar ile array oluşturmak",
      "metadata": {}
    },
    {
      "cell_type": "markdown",
      "source": "- np.random.randint(baslangic, bitis, (array_size)) ile istenilen aralıkta istenilen boyutta arraylar üretebiliriz. \n- bitis bu aralığa dahil değildir",
      "metadata": {}
    },
    {
      "cell_type": "code",
      "source": "np.random.randint(1,10, (3,4))",
      "metadata": {
        "trusted": true
      },
      "execution_count": 25,
      "outputs": [
        {
          "execution_count": 25,
          "output_type": "execute_result",
          "data": {
            "text/plain": "array([[8, 1, 7, 5],\n       [5, 5, 7, 5],\n       [5, 4, 5, 3]])"
          },
          "metadata": {}
        }
      ]
    },
    {
      "cell_type": "code",
      "source": "np.random.randint(1,10, (3,4,5))",
      "metadata": {
        "trusted": true
      },
      "execution_count": 26,
      "outputs": [
        {
          "execution_count": 26,
          "output_type": "execute_result",
          "data": {
            "text/plain": "array([[[4, 5, 8, 3, 8],\n        [2, 6, 7, 2, 7],\n        [9, 5, 1, 9, 7],\n        [1, 4, 8, 2, 6]],\n\n       [[4, 9, 7, 7, 2],\n        [3, 9, 7, 7, 4],\n        [1, 6, 9, 6, 9],\n        [5, 5, 8, 9, 5]],\n\n       [[9, 4, 3, 6, 2],\n        [5, 8, 4, 8, 5],\n        [4, 4, 6, 6, 3],\n        [3, 6, 4, 2, 3]]])"
          },
          "metadata": {}
        }
      ]
    },
    {
      "cell_type": "code",
      "source": "d = {}\n\nfor _ in range (20000):\n    val = np.random.randint(1,11)    \n    if val not in d:\n        d[val] = 1\n    else:\n        d[val] += 1\n        \nd",
      "metadata": {
        "trusted": true
      },
      "execution_count": 27,
      "outputs": [
        {
          "execution_count": 27,
          "output_type": "execute_result",
          "data": {
            "text/plain": "{3: 2041,\n 8: 2132,\n 2: 2007,\n 4: 1953,\n 10: 1974,\n 7: 2031,\n 5: 1996,\n 9: 1920,\n 1: 1967,\n 6: 1979}"
          },
          "metadata": {}
        }
      ]
    },
    {
      "cell_type": "markdown",
      "source": "## Identity (Birim) Matris Oluşturmak",
      "metadata": {}
    },
    {
      "cell_type": "markdown",
      "source": "- Bir birim matrisi oluşturmak için np.eye(x,y) fonksiyonunu kullanırız\n",
      "metadata": {}
    },
    {
      "cell_type": "code",
      "source": "np.eye(3,4)",
      "metadata": {
        "trusted": true
      },
      "execution_count": 28,
      "outputs": [
        {
          "execution_count": 28,
          "output_type": "execute_result",
          "data": {
            "text/plain": "array([[1., 0., 0., 0.],\n       [0., 1., 0., 0.],\n       [0., 0., 1., 0.]])"
          },
          "metadata": {}
        }
      ]
    },
    {
      "cell_type": "code",
      "source": "np.eye(3,3, dtype=\"int\")",
      "metadata": {
        "trusted": true
      },
      "execution_count": 29,
      "outputs": [
        {
          "execution_count": 29,
          "output_type": "execute_result",
          "data": {
            "text/plain": "array([[1, 0, 0],\n       [0, 1, 0],\n       [0, 0, 1]])"
          },
          "metadata": {}
        }
      ]
    },
    {
      "cell_type": "markdown",
      "source": "## Array İşlemleri",
      "metadata": {}
    },
    {
      "cell_type": "markdown",
      "source": "- \"*\" operatörü iki list arasında tanımsızdır. iki listeyi * ile çarpamayız",
      "metadata": {}
    },
    {
      "cell_type": "code",
      "source": "a = [1,2,3,4,5]\nb = [2,3,4,5,6]\n\na*b",
      "metadata": {
        "trusted": true
      },
      "execution_count": 30,
      "outputs": [
        {
          "ename": "<class 'TypeError'>",
          "evalue": "can't multiply sequence by non-int of type 'list'",
          "traceback": [
            "\u001b[0;31m---------------------------------------------------------------------------\u001b[0m",
            "\u001b[0;31mTypeError\u001b[0m                                 Traceback (most recent call last)",
            "Cell \u001b[0;32mIn[30], line 4\u001b[0m\n\u001b[1;32m      1\u001b[0m a \u001b[38;5;241m=\u001b[39m [\u001b[38;5;241m1\u001b[39m,\u001b[38;5;241m2\u001b[39m,\u001b[38;5;241m3\u001b[39m,\u001b[38;5;241m4\u001b[39m,\u001b[38;5;241m5\u001b[39m]\n\u001b[1;32m      2\u001b[0m b \u001b[38;5;241m=\u001b[39m [\u001b[38;5;241m2\u001b[39m,\u001b[38;5;241m3\u001b[39m,\u001b[38;5;241m4\u001b[39m,\u001b[38;5;241m5\u001b[39m,\u001b[38;5;241m6\u001b[39m]\n\u001b[0;32m----> 4\u001b[0m \u001b[43ma\u001b[49m\u001b[38;5;241;43m*\u001b[39;49m\u001b[43mb\u001b[49m\n",
            "\u001b[0;31mTypeError\u001b[0m: can't multiply sequence by non-int of type 'list'"
          ],
          "output_type": "error"
        }
      ]
    },
    {
      "cell_type": "markdown",
      "source": "- Bir list'i bir int ile çarparsak o int kadar listeyi yanyana yazar. sayısal bir çarpma işlemi gerçekleştirmez",
      "metadata": {}
    },
    {
      "cell_type": "code",
      "source": "[2,3,4,5] * 3",
      "metadata": {
        "trusted": true
      },
      "execution_count": 31,
      "outputs": [
        {
          "execution_count": 31,
          "output_type": "execute_result",
          "data": {
            "text/plain": "[2, 3, 4, 5, 2, 3, 4, 5, 2, 3, 4, 5]"
          },
          "metadata": {}
        }
      ]
    },
    {
      "cell_type": "markdown",
      "source": "- Fakat * operatörü iki numpy arasında işlem gerceklestirebilir. eleman bazlı carpma yapabilir.\n- Bu 2 numpy arrayin eleman sayisi ayni olmalidir.",
      "metadata": {}
    },
    {
      "cell_type": "code",
      "source": "a = np.array([1,2,3,4,5])\nb = np.array([2,3,4,5,6])\n\na*b",
      "metadata": {
        "trusted": true
      },
      "execution_count": 32,
      "outputs": [
        {
          "execution_count": 32,
          "output_type": "execute_result",
          "data": {
            "text/plain": "array([ 2,  6, 12, 20, 30])"
          },
          "metadata": {}
        }
      ]
    },
    {
      "cell_type": "markdown",
      "source": "- Aynı şekilde list + list islemi yaptıgımızda concatination işlemi yaparken, array + array işleminde eleman bazlı toplama yapılır.",
      "metadata": {}
    },
    {
      "cell_type": "code",
      "source": "a + b",
      "metadata": {
        "trusted": true
      },
      "execution_count": 33,
      "outputs": [
        {
          "execution_count": 33,
          "output_type": "execute_result",
          "data": {
            "text/plain": "array([ 3,  5,  7,  9, 11])"
          },
          "metadata": {}
        }
      ]
    },
    {
      "cell_type": "markdown",
      "source": "- Bir int ile bir arrayi çarptigimizda da eleman bazlı carpma işlemi gerçekleştirilir.",
      "metadata": {}
    },
    {
      "cell_type": "code",
      "source": "print(\"a: \", a)\nprint(\"a * 3: \", 3*a)",
      "metadata": {
        "trusted": true
      },
      "execution_count": 34,
      "outputs": [
        {
          "name": "stdout",
          "text": "a:  [1 2 3 4 5]\na * 3:  [ 3  6  9 12 15]\n",
          "output_type": "stream"
        }
      ]
    },
    {
      "cell_type": "markdown",
      "source": "## Array Attributes",
      "metadata": {}
    },
    {
      "cell_type": "markdown",
      "source": "- XX.shape ile bir matrisin satır ve sütun sayılarını bulabiliriz.",
      "metadata": {}
    },
    {
      "cell_type": "code",
      "source": "x = np.zeros((2,3), dtype=\"int\")\nx",
      "metadata": {
        "trusted": true
      },
      "execution_count": 35,
      "outputs": [
        {
          "execution_count": 35,
          "output_type": "execute_result",
          "data": {
            "text/plain": "array([[0, 0, 0],\n       [0, 0, 0]])"
          },
          "metadata": {}
        }
      ]
    },
    {
      "cell_type": "code",
      "source": "y = np.zeros((2,5,4), dtype=\"int\")\ny",
      "metadata": {
        "trusted": true
      },
      "execution_count": 36,
      "outputs": [
        {
          "execution_count": 36,
          "output_type": "execute_result",
          "data": {
            "text/plain": "array([[[0, 0, 0, 0],\n        [0, 0, 0, 0],\n        [0, 0, 0, 0],\n        [0, 0, 0, 0],\n        [0, 0, 0, 0]],\n\n       [[0, 0, 0, 0],\n        [0, 0, 0, 0],\n        [0, 0, 0, 0],\n        [0, 0, 0, 0],\n        [0, 0, 0, 0]]])"
          },
          "metadata": {}
        }
      ]
    },
    {
      "cell_type": "code",
      "source": "x.shape",
      "metadata": {
        "trusted": true
      },
      "execution_count": 37,
      "outputs": [
        {
          "execution_count": 37,
          "output_type": "execute_result",
          "data": {
            "text/plain": "(2, 3)"
          },
          "metadata": {}
        }
      ]
    },
    {
      "cell_type": "code",
      "source": "y.shape",
      "metadata": {
        "trusted": true
      },
      "execution_count": 38,
      "outputs": [
        {
          "execution_count": 38,
          "output_type": "execute_result",
          "data": {
            "text/plain": "(2, 5, 4)"
          },
          "metadata": {}
        }
      ]
    },
    {
      "cell_type": "markdown",
      "source": "- XX.ndim ise o matrisin kaç dimension'a sahip olduğunu gösterir. Örneğin:",
      "metadata": {}
    },
    {
      "cell_type": "code",
      "source": "x.ndim",
      "metadata": {
        "trusted": true
      },
      "execution_count": 39,
      "outputs": [
        {
          "execution_count": 39,
          "output_type": "execute_result",
          "data": {
            "text/plain": "2"
          },
          "metadata": {}
        }
      ]
    },
    {
      "cell_type": "code",
      "source": "y.ndim",
      "metadata": {
        "trusted": true
      },
      "execution_count": 40,
      "outputs": [
        {
          "execution_count": 40,
          "output_type": "execute_result",
          "data": {
            "text/plain": "3"
          },
          "metadata": {}
        }
      ]
    },
    {
      "cell_type": "markdown",
      "source": "- XX.size ise o matrisin kaç elemanlı olduğunu döndürür.",
      "metadata": {}
    },
    {
      "cell_type": "code",
      "source": "x.size",
      "metadata": {
        "trusted": true
      },
      "execution_count": 41,
      "outputs": [
        {
          "execution_count": 41,
          "output_type": "execute_result",
          "data": {
            "text/plain": "6"
          },
          "metadata": {}
        }
      ]
    },
    {
      "cell_type": "code",
      "source": "y.size",
      "metadata": {
        "trusted": true
      },
      "execution_count": 42,
      "outputs": [
        {
          "execution_count": 42,
          "output_type": "execute_result",
          "data": {
            "text/plain": "40"
          },
          "metadata": {}
        }
      ]
    },
    {
      "cell_type": "markdown",
      "source": "- XX.dtype o matrisin veri tipini gösterir.",
      "metadata": {}
    },
    {
      "cell_type": "code",
      "source": "x.dtype",
      "metadata": {
        "trusted": true
      },
      "execution_count": 43,
      "outputs": [
        {
          "execution_count": 43,
          "output_type": "execute_result",
          "data": {
            "text/plain": "dtype('int32')"
          },
          "metadata": {}
        }
      ]
    },
    {
      "cell_type": "markdown",
      "source": "## Bir Arrayi Yeniden Şekillendirmek",
      "metadata": {}
    },
    {
      "cell_type": "markdown",
      "source": "- Bir arrayi reshape yaptıktan sonra sadece şekli değişecektir, boyut olarak kesinlikle aynı kalır.",
      "metadata": {}
    },
    {
      "cell_type": "code",
      "source": "a = np.arange(1,11)\na",
      "metadata": {
        "trusted": true
      },
      "execution_count": 44,
      "outputs": [
        {
          "execution_count": 44,
          "output_type": "execute_result",
          "data": {
            "text/plain": "array([ 1,  2,  3,  4,  5,  6,  7,  8,  9, 10])"
          },
          "metadata": {}
        }
      ]
    },
    {
      "cell_type": "code",
      "source": "print(\"a.ndim: \", a.ndim)\nprint(\"a.size: \", a.size)",
      "metadata": {
        "trusted": true
      },
      "execution_count": 45,
      "outputs": [
        {
          "name": "stdout",
          "text": "a.ndim:  1\na.size:  10\n",
          "output_type": "stream"
        }
      ]
    },
    {
      "cell_type": "markdown",
      "source": "- Eğer a'yi 2 satir 5 sütun içeren bir matrise çevirmek istersek:",
      "metadata": {}
    },
    {
      "cell_type": "code",
      "source": "a = a.reshape(2,5)\na",
      "metadata": {
        "trusted": true
      },
      "execution_count": 46,
      "outputs": [
        {
          "execution_count": 46,
          "output_type": "execute_result",
          "data": {
            "text/plain": "array([[ 1,  2,  3,  4,  5],\n       [ 6,  7,  8,  9, 10]])"
          },
          "metadata": {}
        }
      ]
    },
    {
      "cell_type": "code",
      "source": "print(\"a.ndim: \", a.ndim)\nprint(\"a.size: \", a.size)",
      "metadata": {
        "trusted": true
      },
      "execution_count": 47,
      "outputs": [
        {
          "name": "stdout",
          "text": "a.ndim:  2\na.size:  10\n",
          "output_type": "stream"
        }
      ]
    },
    {
      "cell_type": "markdown",
      "source": "- Görüleceği üzere matrisin boyutu aynı kalmiştir.",
      "metadata": {}
    },
    {
      "cell_type": "markdown",
      "source": "- Eğer ki eleman sayısı ve satır-sütun sayısı tutarsız olursa hata verecektir.",
      "metadata": {}
    },
    {
      "cell_type": "code",
      "source": "a.reshape(6,2)\n# 6x2 = 12 yapar. fakat bizim 10 elemanımız var.",
      "metadata": {
        "trusted": true
      },
      "execution_count": 48,
      "outputs": [
        {
          "ename": "<class 'ValueError'>",
          "evalue": "cannot reshape array of size 10 into shape (6,2)",
          "traceback": [
            "\u001b[0;31m---------------------------------------------------------------------------\u001b[0m",
            "\u001b[0;31mValueError\u001b[0m                                Traceback (most recent call last)",
            "Cell \u001b[0;32mIn[48], line 1\u001b[0m\n\u001b[0;32m----> 1\u001b[0m \u001b[43ma\u001b[49m\u001b[38;5;241;43m.\u001b[39;49m\u001b[43mreshape\u001b[49m\u001b[43m(\u001b[49m\u001b[38;5;241;43m6\u001b[39;49m\u001b[43m,\u001b[49m\u001b[38;5;241;43m2\u001b[39;49m\u001b[43m)\u001b[49m\n\u001b[1;32m      2\u001b[0m \u001b[38;5;66;03m# 6x2 = 12 yapar. fakat bizim 10 elemanımız var.\u001b[39;00m\n",
            "\u001b[0;31mValueError\u001b[0m: cannot reshape array of size 10 into shape (6,2)"
          ],
          "output_type": "error"
        }
      ]
    },
    {
      "cell_type": "markdown",
      "source": "- eğer ki reshape(x,y)'de x yerine -1 yazarsak, fonksiyon otomatik olarak y'ye ve boyuta göre x'i bulacaktır.",
      "metadata": {}
    },
    {
      "cell_type": "code",
      "source": "a = a.reshape(-1, 2)\na",
      "metadata": {
        "trusted": true
      },
      "execution_count": 49,
      "outputs": [
        {
          "execution_count": 49,
          "output_type": "execute_result",
          "data": {
            "text/plain": "array([[ 1,  2],\n       [ 3,  4],\n       [ 5,  6],\n       [ 7,  8],\n       [ 9, 10]])"
          },
          "metadata": {}
        }
      ]
    },
    {
      "cell_type": "markdown",
      "source": "- Yukarıda matrisin satir sayısını sütun sayısı=2'ye göre ayarlamıştır",
      "metadata": {}
    },
    {
      "cell_type": "markdown",
      "source": "### Matrise Yeni Bir Boyut Eklemek",
      "metadata": {}
    },
    {
      "cell_type": "code",
      "source": "xx = np.arange(1,11)\nxx",
      "metadata": {
        "trusted": true
      },
      "execution_count": 50,
      "outputs": [
        {
          "execution_count": 50,
          "output_type": "execute_result",
          "data": {
            "text/plain": "array([ 1,  2,  3,  4,  5,  6,  7,  8,  9, 10])"
          },
          "metadata": {}
        }
      ]
    },
    {
      "cell_type": "code",
      "source": "xx.shape",
      "metadata": {
        "trusted": true
      },
      "execution_count": 51,
      "outputs": [
        {
          "execution_count": 51,
          "output_type": "execute_result",
          "data": {
            "text/plain": "(10,)"
          },
          "metadata": {}
        }
      ]
    },
    {
      "cell_type": "code",
      "source": "xx = xx[np.newaxis, :]",
      "metadata": {
        "trusted": true
      },
      "execution_count": 52,
      "outputs": []
    },
    {
      "cell_type": "code",
      "source": "xx.shape",
      "metadata": {
        "trusted": true
      },
      "execution_count": 53,
      "outputs": [
        {
          "execution_count": 53,
          "output_type": "execute_result",
          "data": {
            "text/plain": "(1, 10)"
          },
          "metadata": {}
        }
      ]
    },
    {
      "cell_type": "code",
      "source": "xx = np.arange(1,11)",
      "metadata": {
        "trusted": true
      },
      "execution_count": 54,
      "outputs": []
    },
    {
      "cell_type": "code",
      "source": "xx = xx[:, np.newaxis]",
      "metadata": {
        "trusted": true
      },
      "execution_count": 55,
      "outputs": []
    },
    {
      "cell_type": "code",
      "source": "xx.shape",
      "metadata": {
        "trusted": true
      },
      "execution_count": 56,
      "outputs": [
        {
          "execution_count": 56,
          "output_type": "execute_result",
          "data": {
            "text/plain": "(10, 1)"
          },
          "metadata": {}
        }
      ]
    },
    {
      "cell_type": "code",
      "source": "xx = np.arange(1,11)",
      "metadata": {
        "trusted": true
      },
      "execution_count": 57,
      "outputs": []
    },
    {
      "cell_type": "code",
      "source": "xx = xx[None, :]\nxx",
      "metadata": {
        "trusted": true
      },
      "execution_count": 58,
      "outputs": [
        {
          "execution_count": 58,
          "output_type": "execute_result",
          "data": {
            "text/plain": "array([[ 1,  2,  3,  4,  5,  6,  7,  8,  9, 10]])"
          },
          "metadata": {}
        }
      ]
    },
    {
      "cell_type": "code",
      "source": "xx.size",
      "metadata": {
        "trusted": true
      },
      "execution_count": 59,
      "outputs": [
        {
          "execution_count": 59,
          "output_type": "execute_result",
          "data": {
            "text/plain": "10"
          },
          "metadata": {}
        }
      ]
    },
    {
      "cell_type": "markdown",
      "source": "## Array'lerde Concatenation",
      "metadata": {}
    },
    {
      "cell_type": "markdown",
      "source": "- iki tane arrayi birleştirirken np.concatenate() fonksiyonunu kullanrız.",
      "metadata": {}
    },
    {
      "cell_type": "code",
      "source": "a = np.array([1,2,3,4])",
      "metadata": {
        "trusted": true
      },
      "execution_count": 60,
      "outputs": []
    },
    {
      "cell_type": "code",
      "source": "b = np.array([5,6,7,8])",
      "metadata": {
        "trusted": true
      },
      "execution_count": 61,
      "outputs": []
    },
    {
      "cell_type": "code",
      "source": "np.concatenate([a,b])",
      "metadata": {
        "trusted": true
      },
      "execution_count": 62,
      "outputs": [
        {
          "execution_count": 62,
          "output_type": "execute_result",
          "data": {
            "text/plain": "array([1, 2, 3, 4, 5, 6, 7, 8])"
          },
          "metadata": {}
        }
      ]
    },
    {
      "cell_type": "markdown",
      "source": "- python listlerini de arrayleri ile birleştirebiliriz.",
      "metadata": {}
    },
    {
      "cell_type": "code",
      "source": "l = [10,11]",
      "metadata": {
        "trusted": true
      },
      "execution_count": 63,
      "outputs": []
    },
    {
      "cell_type": "code",
      "source": "np.concatenate([a,b,l])",
      "metadata": {
        "trusted": true
      },
      "execution_count": 64,
      "outputs": [
        {
          "execution_count": 64,
          "output_type": "execute_result",
          "data": {
            "text/plain": "array([ 1,  2,  3,  4,  5,  6,  7,  8, 10, 11])"
          },
          "metadata": {}
        }
      ]
    },
    {
      "cell_type": "markdown",
      "source": "- fakat listede hem int hemde float eleman varsa arraylerin elemanlarını float yapacaktır.\n- veya listede str varsa arrayin elemanlarını da str yapar.",
      "metadata": {}
    },
    {
      "cell_type": "code",
      "source": "l = [10, 11, 11.2]",
      "metadata": {
        "trusted": true
      },
      "execution_count": 65,
      "outputs": []
    },
    {
      "cell_type": "code",
      "source": "np.concatenate([a,b,l])",
      "metadata": {
        "trusted": true
      },
      "execution_count": 66,
      "outputs": [
        {
          "execution_count": 66,
          "output_type": "execute_result",
          "data": {
            "text/plain": "array([ 1. ,  2. ,  3. ,  4. ,  5. ,  6. ,  7. ,  8. , 10. , 11. , 11.2])"
          },
          "metadata": {}
        }
      ]
    },
    {
      "cell_type": "markdown",
      "source": "- eğer ki np.concatenate([x,y], axis=1) olarak bir input verecek olursak;",
      "metadata": {}
    },
    {
      "cell_type": "code",
      "source": "x = np.array([[1,2,3],[4,5,6]])",
      "metadata": {
        "trusted": true
      },
      "execution_count": 67,
      "outputs": []
    },
    {
      "cell_type": "code",
      "source": "np.concatenate([x,x])",
      "metadata": {
        "trusted": true
      },
      "execution_count": 68,
      "outputs": [
        {
          "execution_count": 68,
          "output_type": "execute_result",
          "data": {
            "text/plain": "array([[1, 2, 3],\n       [4, 5, 6],\n       [1, 2, 3],\n       [4, 5, 6]])"
          },
          "metadata": {}
        }
      ]
    },
    {
      "cell_type": "code",
      "source": "np.concatenate([x,x], axis=1)",
      "metadata": {
        "trusted": true
      },
      "execution_count": 69,
      "outputs": [
        {
          "execution_count": 69,
          "output_type": "execute_result",
          "data": {
            "text/plain": "array([[1, 2, 3, 1, 2, 3],\n       [4, 5, 6, 4, 5, 6]])"
          },
          "metadata": {}
        }
      ]
    },
    {
      "cell_type": "markdown",
      "source": "- burada axis = 0 (default deger) alt alta ekleyecektir. \n- Fakat axis = 1 dersek, yanyana koyacaktir.",
      "metadata": {}
    },
    {
      "cell_type": "markdown",
      "source": "## Stack\n\n- Stack, yeni boyut ekleyip o boyut üzerinde concatenation yapabildiğimiz senaryodur",
      "metadata": {}
    },
    {
      "cell_type": "code",
      "source": "a = np.array([1,2,3,4])\nb = np.array([5,6,7,8])",
      "metadata": {
        "trusted": true
      },
      "execution_count": 70,
      "outputs": []
    },
    {
      "cell_type": "code",
      "source": "np.stack([a,b])",
      "metadata": {
        "trusted": true
      },
      "execution_count": 71,
      "outputs": [
        {
          "execution_count": 71,
          "output_type": "execute_result",
          "data": {
            "text/plain": "array([[1, 2, 3, 4],\n       [5, 6, 7, 8]])"
          },
          "metadata": {}
        }
      ]
    },
    {
      "cell_type": "code",
      "source": "np.stack([a,b], axis=1)",
      "metadata": {
        "trusted": true
      },
      "execution_count": 72,
      "outputs": [
        {
          "execution_count": 72,
          "output_type": "execute_result",
          "data": {
            "text/plain": "array([[1, 5],\n       [2, 6],\n       [3, 7],\n       [4, 8]])"
          },
          "metadata": {}
        }
      ]
    },
    {
      "cell_type": "markdown",
      "source": "## Splitting\n\n- np.list bir listeyi veya array'i bolmek için kullanırız.\n- np.list(input, [bolunecek_yer, bolunecek_yer])",
      "metadata": {}
    },
    {
      "cell_type": "code",
      "source": "l = [10, 20, 30, 40, 50, 60, 70, 80]",
      "metadata": {
        "trusted": true
      },
      "execution_count": 73,
      "outputs": []
    },
    {
      "cell_type": "code",
      "source": "np.split(l, [2,6])",
      "metadata": {
        "trusted": true
      },
      "execution_count": 74,
      "outputs": [
        {
          "execution_count": 74,
          "output_type": "execute_result",
          "data": {
            "text/plain": "[array([10, 20]), array([30, 40, 50, 60]), array([70, 80])]"
          },
          "metadata": {}
        }
      ]
    },
    {
      "cell_type": "code",
      "source": "np.split(l, [3, 5])",
      "metadata": {
        "trusted": true
      },
      "execution_count": 75,
      "outputs": [
        {
          "execution_count": 75,
          "output_type": "execute_result",
          "data": {
            "text/plain": "[array([10, 20, 30]), array([40, 50]), array([60, 70, 80])]"
          },
          "metadata": {}
        }
      ]
    },
    {
      "cell_type": "code",
      "source": "np.split(l, [2,4,6])",
      "metadata": {
        "trusted": true
      },
      "execution_count": 76,
      "outputs": [
        {
          "execution_count": 76,
          "output_type": "execute_result",
          "data": {
            "text/plain": "[array([10, 20]), array([30, 40]), array([50, 60]), array([70, 80])]"
          },
          "metadata": {}
        }
      ]
    },
    {
      "cell_type": "markdown",
      "source": "- ayrıca parcalanan bu elemanları bir degerlere atayabiliriz. ",
      "metadata": {}
    },
    {
      "cell_type": "code",
      "source": "a,b,c,d = np.split(l, [2,4,6])\nprint(\"a: \", a)\nprint(\"b: \", b)\nprint(\"c: \", c)\nprint(\"d: \", d)",
      "metadata": {
        "trusted": true
      },
      "execution_count": 77,
      "outputs": [
        {
          "name": "stdout",
          "text": "a:  [10 20]\nb:  [30 40]\nc:  [50 60]\nd:  [70 80]\n",
          "output_type": "stream"
        }
      ]
    },
    {
      "cell_type": "markdown",
      "source": "### vsplit\n\n-vertical split",
      "metadata": {}
    },
    {
      "cell_type": "code",
      "source": "a = np.arange(20).reshape(2,10)\na",
      "metadata": {
        "trusted": true
      },
      "execution_count": 78,
      "outputs": [
        {
          "execution_count": 78,
          "output_type": "execute_result",
          "data": {
            "text/plain": "array([[ 0,  1,  2,  3,  4,  5,  6,  7,  8,  9],\n       [10, 11, 12, 13, 14, 15, 16, 17, 18, 19]])"
          },
          "metadata": {}
        }
      ]
    },
    {
      "cell_type": "code",
      "source": "np.vsplit(a, [1])",
      "metadata": {
        "trusted": true
      },
      "execution_count": 79,
      "outputs": [
        {
          "execution_count": 79,
          "output_type": "execute_result",
          "data": {
            "text/plain": "[array([[0, 1, 2, 3, 4, 5, 6, 7, 8, 9]]),\n array([[10, 11, 12, 13, 14, 15, 16, 17, 18, 19]])]"
          },
          "metadata": {}
        }
      ]
    },
    {
      "cell_type": "markdown",
      "source": "### hsplit\n\n- horizontal split",
      "metadata": {}
    },
    {
      "cell_type": "code",
      "source": "a = np.arange(20).reshape(2,10)\na",
      "metadata": {
        "trusted": true
      },
      "execution_count": 80,
      "outputs": [
        {
          "execution_count": 80,
          "output_type": "execute_result",
          "data": {
            "text/plain": "array([[ 0,  1,  2,  3,  4,  5,  6,  7,  8,  9],\n       [10, 11, 12, 13, 14, 15, 16, 17, 18, 19]])"
          },
          "metadata": {}
        }
      ]
    },
    {
      "cell_type": "code",
      "source": "np.hsplit(a, [2])",
      "metadata": {
        "trusted": true
      },
      "execution_count": 81,
      "outputs": [
        {
          "execution_count": 81,
          "output_type": "execute_result",
          "data": {
            "text/plain": "[array([[ 0,  1],\n        [10, 11]]),\n array([[ 2,  3,  4,  5,  6,  7,  8,  9],\n        [12, 13, 14, 15, 16, 17, 18, 19]])]"
          },
          "metadata": {}
        }
      ]
    },
    {
      "cell_type": "code",
      "source": "np.hsplit(a, [2])[0]",
      "metadata": {
        "trusted": true
      },
      "execution_count": 82,
      "outputs": [
        {
          "execution_count": 82,
          "output_type": "execute_result",
          "data": {
            "text/plain": "array([[ 0,  1],\n       [10, 11]])"
          },
          "metadata": {}
        }
      ]
    },
    {
      "cell_type": "code",
      "source": "np.hsplit(a, [2])[1]",
      "metadata": {
        "trusted": true
      },
      "execution_count": 83,
      "outputs": [
        {
          "execution_count": 83,
          "output_type": "execute_result",
          "data": {
            "text/plain": "array([[ 2,  3,  4,  5,  6,  7,  8,  9],\n       [12, 13, 14, 15, 16, 17, 18, 19]])"
          },
          "metadata": {}
        }
      ]
    },
    {
      "cell_type": "code",
      "source": "a = np.arange(20).reshape(5,4)\na",
      "metadata": {
        "trusted": true
      },
      "execution_count": 84,
      "outputs": [
        {
          "execution_count": 84,
          "output_type": "execute_result",
          "data": {
            "text/plain": "array([[ 0,  1,  2,  3],\n       [ 4,  5,  6,  7],\n       [ 8,  9, 10, 11],\n       [12, 13, 14, 15],\n       [16, 17, 18, 19]])"
          },
          "metadata": {}
        }
      ]
    },
    {
      "cell_type": "markdown",
      "source": "## Sorting\n\n- array'leri sıralamak için kullanırız\n- bunu iki farkli sekilde yapabiliriz.\n- np.sort(x) inplace degildir, yani mecvut arrayi güncellemez.\n- x.sort() ise inplacedir, yani x arrayini de günceller.",
      "metadata": {}
    },
    {
      "cell_type": "code",
      "source": "aa = np.array([20, 32, 5, 30, 10])\naa",
      "metadata": {
        "trusted": true
      },
      "execution_count": 85,
      "outputs": [
        {
          "execution_count": 85,
          "output_type": "execute_result",
          "data": {
            "text/plain": "array([20, 32,  5, 30, 10])"
          },
          "metadata": {}
        }
      ]
    },
    {
      "cell_type": "code",
      "source": "np.sort(aa)\naa",
      "metadata": {
        "trusted": true
      },
      "execution_count": 86,
      "outputs": [
        {
          "execution_count": 86,
          "output_type": "execute_result",
          "data": {
            "text/plain": "array([20, 32,  5, 30, 10])"
          },
          "metadata": {}
        }
      ]
    },
    {
      "cell_type": "code",
      "source": "aa.sort()\naa",
      "metadata": {
        "trusted": true
      },
      "execution_count": 87,
      "outputs": [
        {
          "execution_count": 87,
          "output_type": "execute_result",
          "data": {
            "text/plain": "array([ 5, 10, 20, 30, 32])"
          },
          "metadata": {}
        }
      ]
    },
    {
      "cell_type": "markdown",
      "source": "### argsort\n\n- argsort bir arrayi sıraladıktan sonra o arrayin indexlerini verir.",
      "metadata": {}
    },
    {
      "cell_type": "code",
      "source": "idxs = np.argsort(aa)\nidxs",
      "metadata": {
        "trusted": true
      },
      "execution_count": 88,
      "outputs": [
        {
          "execution_count": 88,
          "output_type": "execute_result",
          "data": {
            "text/plain": "array([0, 1, 2, 3, 4], dtype=int32)"
          },
          "metadata": {}
        }
      ]
    },
    {
      "cell_type": "markdown",
      "source": "## Indexing işlemi\n",
      "metadata": {}
    },
    {
      "cell_type": "markdown",
      "source": "### Fancy Indexing\n- Fancy indexing ile bir kaç tane belirli indexteki elemanı döndürebiliriz.",
      "metadata": {}
    },
    {
      "cell_type": "code",
      "source": "x = np.arange(1,15)\nx",
      "metadata": {
        "trusted": true
      },
      "execution_count": 89,
      "outputs": [
        {
          "execution_count": 89,
          "output_type": "execute_result",
          "data": {
            "text/plain": "array([ 1,  2,  3,  4,  5,  6,  7,  8,  9, 10, 11, 12, 13, 14])"
          },
          "metadata": {}
        }
      ]
    },
    {
      "cell_type": "code",
      "source": "idxs = [4,5,7,11]",
      "metadata": {
        "trusted": true
      },
      "execution_count": 90,
      "outputs": []
    },
    {
      "cell_type": "markdown",
      "source": "- 4, 5, 7 ve 11 indexlerindeki elemanları döndürmek istersek:",
      "metadata": {}
    },
    {
      "cell_type": "code",
      "source": "x[idxs] ",
      "metadata": {
        "trusted": true
      },
      "execution_count": 91,
      "outputs": [
        {
          "execution_count": 91,
          "output_type": "execute_result",
          "data": {
            "text/plain": "array([ 5,  6,  8, 12])"
          },
          "metadata": {}
        }
      ]
    },
    {
      "cell_type": "code",
      "source": "a = np.arange(12).reshape(3,4)\na",
      "metadata": {
        "trusted": true
      },
      "execution_count": 92,
      "outputs": [
        {
          "execution_count": 92,
          "output_type": "execute_result",
          "data": {
            "text/plain": "array([[ 0,  1,  2,  3],\n       [ 4,  5,  6,  7],\n       [ 8,  9, 10, 11]])"
          },
          "metadata": {}
        }
      ]
    },
    {
      "cell_type": "code",
      "source": "aa = np.arange(20).reshape(4,5)\naa",
      "metadata": {
        "trusted": true
      },
      "execution_count": 93,
      "outputs": [
        {
          "execution_count": 93,
          "output_type": "execute_result",
          "data": {
            "text/plain": "array([[ 0,  1,  2,  3,  4],\n       [ 5,  6,  7,  8,  9],\n       [10, 11, 12, 13, 14],\n       [15, 16, 17, 18, 19]])"
          },
          "metadata": {}
        }
      ]
    },
    {
      "cell_type": "code",
      "source": "idx=[1,3,2]\nidx2=[3,0,2]",
      "metadata": {
        "trusted": true
      },
      "execution_count": 94,
      "outputs": []
    },
    {
      "cell_type": "markdown",
      "source": "- [ (1,3), (3,0), (2,2) ]",
      "metadata": {}
    },
    {
      "cell_type": "code",
      "source": "aa[idx, idx2]",
      "metadata": {
        "trusted": true
      },
      "execution_count": 95,
      "outputs": [
        {
          "execution_count": 95,
          "output_type": "execute_result",
          "data": {
            "text/plain": "array([ 8, 15, 12])"
          },
          "metadata": {}
        }
      ]
    },
    {
      "cell_type": "code",
      "source": "x = np.arange(1,15)\nx",
      "metadata": {
        "trusted": true
      },
      "execution_count": 96,
      "outputs": [
        {
          "execution_count": 96,
          "output_type": "execute_result",
          "data": {
            "text/plain": "array([ 1,  2,  3,  4,  5,  6,  7,  8,  9, 10, 11, 12, 13, 14])"
          },
          "metadata": {}
        }
      ]
    },
    {
      "cell_type": "code",
      "source": "x[[1,2,3]] = 20\nx",
      "metadata": {
        "trusted": true
      },
      "execution_count": 97,
      "outputs": [
        {
          "execution_count": 97,
          "output_type": "execute_result",
          "data": {
            "text/plain": "array([ 1, 20, 20, 20,  5,  6,  7,  8,  9, 10, 11, 12, 13, 14])"
          },
          "metadata": {}
        }
      ]
    },
    {
      "cell_type": "code",
      "source": "a = np.arange(1,13).reshape(3,4)\na",
      "metadata": {
        "trusted": true
      },
      "execution_count": 98,
      "outputs": [
        {
          "execution_count": 98,
          "output_type": "execute_result",
          "data": {
            "text/plain": "array([[ 1,  2,  3,  4],\n       [ 5,  6,  7,  8],\n       [ 9, 10, 11, 12]])"
          },
          "metadata": {}
        }
      ]
    },
    {
      "cell_type": "markdown",
      "source": "### Subaray",
      "metadata": {}
    },
    {
      "cell_type": "code",
      "source": "a",
      "metadata": {
        "trusted": true
      },
      "execution_count": 99,
      "outputs": [
        {
          "execution_count": 99,
          "output_type": "execute_result",
          "data": {
            "text/plain": "array([[ 1,  2,  3,  4],\n       [ 5,  6,  7,  8],\n       [ 9, 10, 11, 12]])"
          },
          "metadata": {}
        }
      ]
    },
    {
      "cell_type": "code",
      "source": "b = a[:2,:3]\nb",
      "metadata": {
        "trusted": true
      },
      "execution_count": 100,
      "outputs": [
        {
          "execution_count": 100,
          "output_type": "execute_result",
          "data": {
            "text/plain": "array([[1, 2, 3],\n       [5, 6, 7]])"
          },
          "metadata": {}
        }
      ]
    },
    {
      "cell_type": "code",
      "source": "b[0,0] = 100",
      "metadata": {
        "trusted": true
      },
      "execution_count": 101,
      "outputs": []
    },
    {
      "cell_type": "code",
      "source": "b",
      "metadata": {
        "trusted": true
      },
      "execution_count": 102,
      "outputs": [
        {
          "execution_count": 102,
          "output_type": "execute_result",
          "data": {
            "text/plain": "array([[100,   2,   3],\n       [  5,   6,   7]])"
          },
          "metadata": {}
        }
      ]
    },
    {
      "cell_type": "code",
      "source": "a",
      "metadata": {
        "trusted": true
      },
      "execution_count": 103,
      "outputs": [
        {
          "execution_count": 103,
          "output_type": "execute_result",
          "data": {
            "text/plain": "array([[100,   2,   3,   4],\n       [  5,   6,   7,   8],\n       [  9,  10,  11,  12]])"
          },
          "metadata": {}
        }
      ]
    },
    {
      "cell_type": "markdown",
      "source": "### Copy()\n- Copy() methodu ile subarray'in degerini degistirmeden farkli bir array yaratabiliriz.",
      "metadata": {}
    },
    {
      "cell_type": "code",
      "source": "a = np.arange(1,21).reshape(4,5)\na",
      "metadata": {
        "trusted": true
      },
      "execution_count": 104,
      "outputs": [
        {
          "execution_count": 104,
          "output_type": "execute_result",
          "data": {
            "text/plain": "array([[ 1,  2,  3,  4,  5],\n       [ 6,  7,  8,  9, 10],\n       [11, 12, 13, 14, 15],\n       [16, 17, 18, 19, 20]])"
          },
          "metadata": {}
        }
      ]
    },
    {
      "cell_type": "code",
      "source": "b = a[:2,:3].copy()\nb",
      "metadata": {
        "trusted": true
      },
      "execution_count": 105,
      "outputs": [
        {
          "execution_count": 105,
          "output_type": "execute_result",
          "data": {
            "text/plain": "array([[1, 2, 3],\n       [6, 7, 8]])"
          },
          "metadata": {}
        }
      ]
    },
    {
      "cell_type": "code",
      "source": "b[0,0] = 100\nb",
      "metadata": {
        "trusted": true
      },
      "execution_count": 106,
      "outputs": [
        {
          "execution_count": 106,
          "output_type": "execute_result",
          "data": {
            "text/plain": "array([[100,   2,   3],\n       [  6,   7,   8]])"
          },
          "metadata": {}
        }
      ]
    },
    {
      "cell_type": "code",
      "source": "a",
      "metadata": {
        "trusted": true
      },
      "execution_count": 107,
      "outputs": [
        {
          "execution_count": 107,
          "output_type": "execute_result",
          "data": {
            "text/plain": "array([[ 1,  2,  3,  4,  5],\n       [ 6,  7,  8,  9, 10],\n       [11, 12, 13, 14, 15],\n       [16, 17, 18, 19, 20]])"
          },
          "metadata": {}
        }
      ]
    },
    {
      "cell_type": "markdown",
      "source": "### Conditional Indexing",
      "metadata": {}
    },
    {
      "cell_type": "code",
      "source": "a = np.arange(1,10)",
      "metadata": {
        "trusted": true
      },
      "execution_count": 108,
      "outputs": []
    },
    {
      "cell_type": "markdown",
      "source": "- bu arrayin içinde 5'ten kücük olan degerleri almak istersek",
      "metadata": {}
    },
    {
      "cell_type": "code",
      "source": "a<5",
      "metadata": {
        "trusted": true
      },
      "execution_count": 109,
      "outputs": [
        {
          "execution_count": 109,
          "output_type": "execute_result",
          "data": {
            "text/plain": "array([ True,  True,  True,  True, False, False, False, False, False])"
          },
          "metadata": {}
        }
      ]
    },
    {
      "cell_type": "code",
      "source": "a[a<5]",
      "metadata": {
        "trusted": true
      },
      "execution_count": 110,
      "outputs": [
        {
          "execution_count": 110,
          "output_type": "execute_result",
          "data": {
            "text/plain": "array([1, 2, 3, 4])"
          },
          "metadata": {}
        }
      ]
    },
    {
      "cell_type": "markdown",
      "source": "- veya:",
      "metadata": {}
    },
    {
      "cell_type": "code",
      "source": "filt = a < 3\na[filt]",
      "metadata": {
        "trusted": true
      },
      "execution_count": 111,
      "outputs": [
        {
          "execution_count": 111,
          "output_type": "execute_result",
          "data": {
            "text/plain": "array([1, 2])"
          },
          "metadata": {}
        }
      ]
    },
    {
      "cell_type": "code",
      "source": "b = np.array([2,3,3,4,5,61,7,8,9])\nb",
      "metadata": {
        "trusted": true
      },
      "execution_count": 112,
      "outputs": [
        {
          "execution_count": 112,
          "output_type": "execute_result",
          "data": {
            "text/plain": "array([ 2,  3,  3,  4,  5, 61,  7,  8,  9])"
          },
          "metadata": {}
        }
      ]
    },
    {
      "cell_type": "code",
      "source": "a",
      "metadata": {
        "trusted": true
      },
      "execution_count": 113,
      "outputs": [
        {
          "execution_count": 113,
          "output_type": "execute_result",
          "data": {
            "text/plain": "array([1, 2, 3, 4, 5, 6, 7, 8, 9])"
          },
          "metadata": {}
        }
      ]
    },
    {
      "cell_type": "code",
      "source": "a[a==b]",
      "metadata": {
        "trusted": true
      },
      "execution_count": 114,
      "outputs": [
        {
          "execution_count": 114,
          "output_type": "execute_result",
          "data": {
            "text/plain": "array([3, 4, 5, 7, 8, 9])"
          },
          "metadata": {}
        }
      ]
    },
    {
      "cell_type": "code",
      "source": "xx = np.arange(1,50,2)\nxx",
      "metadata": {
        "trusted": true
      },
      "execution_count": 115,
      "outputs": [
        {
          "execution_count": 115,
          "output_type": "execute_result",
          "data": {
            "text/plain": "array([ 1,  3,  5,  7,  9, 11, 13, 15, 17, 19, 21, 23, 25, 27, 29, 31, 33,\n       35, 37, 39, 41, 43, 45, 47, 49])"
          },
          "metadata": {}
        }
      ]
    },
    {
      "cell_type": "code",
      "source": "filter_x = (xx < 20) | (xx > 35)",
      "metadata": {
        "trusted": true
      },
      "execution_count": 116,
      "outputs": []
    },
    {
      "cell_type": "code",
      "source": "xx[filter_x]",
      "metadata": {
        "trusted": true
      },
      "execution_count": 117,
      "outputs": [
        {
          "execution_count": 117,
          "output_type": "execute_result",
          "data": {
            "text/plain": "array([ 1,  3,  5,  7,  9, 11, 13, 15, 17, 19, 37, 39, 41, 43, 45, 47, 49])"
          },
          "metadata": {}
        }
      ]
    },
    {
      "cell_type": "markdown",
      "source": "- bir filtrenin tersini almak istersek ~ kullanırız",
      "metadata": {}
    },
    {
      "cell_type": "code",
      "source": "xx[~filter_x]",
      "metadata": {
        "trusted": true
      },
      "execution_count": 118,
      "outputs": [
        {
          "execution_count": 118,
          "output_type": "execute_result",
          "data": {
            "text/plain": "array([21, 23, 25, 27, 29, 31, 33, 35])"
          },
          "metadata": {}
        }
      ]
    },
    {
      "cell_type": "markdown",
      "source": "### Multidimension array'lerde conditional indexing:",
      "metadata": {}
    },
    {
      "cell_type": "code",
      "source": "a = np.arange(1,21).reshape(4,5)\na",
      "metadata": {
        "trusted": true
      },
      "execution_count": 119,
      "outputs": [
        {
          "execution_count": 119,
          "output_type": "execute_result",
          "data": {
            "text/plain": "array([[ 1,  2,  3,  4,  5],\n       [ 6,  7,  8,  9, 10],\n       [11, 12, 13, 14, 15],\n       [16, 17, 18, 19, 20]])"
          },
          "metadata": {}
        }
      ]
    },
    {
      "cell_type": "code",
      "source": "a[a<7]",
      "metadata": {
        "trusted": true
      },
      "execution_count": 120,
      "outputs": [
        {
          "execution_count": 120,
          "output_type": "execute_result",
          "data": {
            "text/plain": "array([1, 2, 3, 4, 5, 6])"
          },
          "metadata": {}
        }
      ]
    },
    {
      "cell_type": "markdown",
      "source": "## Sum methodu\n- bir array'deki değerlerin toplamını bulmak için kullanırız.",
      "metadata": {}
    },
    {
      "cell_type": "code",
      "source": "a = np.arange(1,21).reshape(4,5)\na",
      "metadata": {
        "trusted": true
      },
      "execution_count": 122,
      "outputs": [
        {
          "execution_count": 122,
          "output_type": "execute_result",
          "data": {
            "text/plain": "array([[ 1,  2,  3,  4,  5],\n       [ 6,  7,  8,  9, 10],\n       [11, 12, 13, 14, 15],\n       [16, 17, 18, 19, 20]])"
          },
          "metadata": {}
        }
      ]
    },
    {
      "cell_type": "code",
      "source": "np.sum(a)",
      "metadata": {
        "trusted": true
      },
      "execution_count": 123,
      "outputs": [
        {
          "execution_count": 123,
          "output_type": "execute_result",
          "data": {
            "text/plain": "210"
          },
          "metadata": {}
        }
      ]
    },
    {
      "cell_type": "markdown",
      "source": "- bu toplama işlemine filtre de ekleyebiliriz.",
      "metadata": {}
    },
    {
      "cell_type": "code",
      "source": "filtre = a<5",
      "metadata": {
        "trusted": true
      },
      "execution_count": 124,
      "outputs": []
    },
    {
      "cell_type": "code",
      "source": "np.sum(filtre)",
      "metadata": {
        "trusted": true
      },
      "execution_count": 125,
      "outputs": [
        {
          "execution_count": 125,
          "output_type": "execute_result",
          "data": {
            "text/plain": "4"
          },
          "metadata": {}
        }
      ]
    },
    {
      "cell_type": "markdown",
      "source": "- bu şekilde filtreye uyan kaç adet değerimiz olduğunu buluruz.",
      "metadata": {}
    },
    {
      "cell_type": "code",
      "source": "np.sum(a[filtre])",
      "metadata": {
        "trusted": true
      },
      "execution_count": 126,
      "outputs": [
        {
          "execution_count": 126,
          "output_type": "execute_result",
          "data": {
            "text/plain": "10"
          },
          "metadata": {}
        }
      ]
    },
    {
      "cell_type": "markdown",
      "source": "- filtreye uyan değerlerin toplamını bulmak istersek de üstteki şekilde ulaşabiliriz.\n",
      "metadata": {}
    },
    {
      "cell_type": "code",
      "source": "filtre = (a<5) | (a>9)",
      "metadata": {
        "trusted": true
      },
      "execution_count": 127,
      "outputs": []
    },
    {
      "cell_type": "code",
      "source": "np.sum(a[filtre])",
      "metadata": {
        "trusted": true
      },
      "execution_count": 128,
      "outputs": [
        {
          "execution_count": 128,
          "output_type": "execute_result",
          "data": {
            "text/plain": "175"
          },
          "metadata": {}
        }
      ]
    },
    {
      "cell_type": "markdown",
      "source": "### Belirli axis'ler üzerinde toplama:\n- axis = 0 ve 1 diyerek sadece satır veya sutunlar üzerinde toplama yapabiliriz.",
      "metadata": {}
    },
    {
      "cell_type": "code",
      "source": "a",
      "metadata": {
        "trusted": true
      },
      "execution_count": 129,
      "outputs": [
        {
          "execution_count": 129,
          "output_type": "execute_result",
          "data": {
            "text/plain": "array([[ 1,  2,  3,  4,  5],\n       [ 6,  7,  8,  9, 10],\n       [11, 12, 13, 14, 15],\n       [16, 17, 18, 19, 20]])"
          },
          "metadata": {}
        }
      ]
    },
    {
      "cell_type": "code",
      "source": "np.sum(a, axis=0)",
      "metadata": {
        "trusted": true
      },
      "execution_count": 130,
      "outputs": [
        {
          "execution_count": 130,
          "output_type": "execute_result",
          "data": {
            "text/plain": "array([34, 38, 42, 46, 50])"
          },
          "metadata": {}
        }
      ]
    },
    {
      "cell_type": "code",
      "source": "np.sum(a, axis=1)",
      "metadata": {
        "trusted": true
      },
      "execution_count": 131,
      "outputs": [
        {
          "execution_count": 131,
          "output_type": "execute_result",
          "data": {
            "text/plain": "array([15, 40, 65, 90])"
          },
          "metadata": {}
        }
      ]
    },
    {
      "cell_type": "markdown",
      "source": "## All methods\n- All methodu, verilen şartı array'in bütün elemanları sağlayıp sağlamadığını kontrol etmek için kullanılır.",
      "metadata": {}
    },
    {
      "cell_type": "code",
      "source": "a = np.arange(20).reshape(4,5)\na",
      "metadata": {
        "trusted": true
      },
      "execution_count": 135,
      "outputs": [
        {
          "execution_count": 135,
          "output_type": "execute_result",
          "data": {
            "text/plain": "array([[ 0,  1,  2,  3,  4],\n       [ 5,  6,  7,  8,  9],\n       [10, 11, 12, 13, 14],\n       [15, 16, 17, 18, 19]])"
          },
          "metadata": {}
        }
      ]
    },
    {
      "cell_type": "code",
      "source": "np.all(a > -1)",
      "metadata": {
        "trusted": true
      },
      "execution_count": 136,
      "outputs": [
        {
          "execution_count": 136,
          "output_type": "execute_result",
          "data": {
            "text/plain": "True"
          },
          "metadata": {}
        }
      ]
    },
    {
      "cell_type": "code",
      "source": "np.all(a>5)",
      "metadata": {
        "trusted": true
      },
      "execution_count": 137,
      "outputs": [
        {
          "execution_count": 137,
          "output_type": "execute_result",
          "data": {
            "text/plain": "False"
          },
          "metadata": {}
        }
      ]
    },
    {
      "cell_type": "markdown",
      "source": "- axis = 1 satırlar üzerinde şart aranır",
      "metadata": {}
    },
    {
      "cell_type": "code",
      "source": "np.all(a>-1, axis=1)",
      "metadata": {
        "trusted": true
      },
      "execution_count": 140,
      "outputs": [
        {
          "execution_count": 140,
          "output_type": "execute_result",
          "data": {
            "text/plain": "array([ True,  True,  True,  True,  True])"
          },
          "metadata": {}
        }
      ]
    },
    {
      "cell_type": "markdown",
      "source": "- axis = 0 ise sütunlar üzeridne şartlar aranır",
      "metadata": {}
    },
    {
      "cell_type": "code",
      "source": "np.all(a>5, axis=0)",
      "metadata": {
        "trusted": true
      },
      "execution_count": 142,
      "outputs": [
        {
          "execution_count": 142,
          "output_type": "execute_result",
          "data": {
            "text/plain": "array([False, False, False, False, False])"
          },
          "metadata": {}
        }
      ]
    },
    {
      "cell_type": "markdown",
      "source": "## Any methods\n- Any methodu, verilen şartı array'in herhangi bir elemanı sağlayıp sağlamadığını kontrol etmek için kullanılır.",
      "metadata": {}
    },
    {
      "cell_type": "code",
      "source": "a",
      "metadata": {
        "trusted": true
      },
      "execution_count": 144,
      "outputs": [
        {
          "execution_count": 144,
          "output_type": "execute_result",
          "data": {
            "text/plain": "array([[ 0,  1,  2,  3,  4],\n       [ 5,  6,  7,  8,  9],\n       [10, 11, 12, 13, 14],\n       [15, 16, 17, 18, 19]])"
          },
          "metadata": {}
        }
      ]
    },
    {
      "cell_type": "code",
      "source": "np.any(a>15)",
      "metadata": {
        "trusted": true
      },
      "execution_count": 143,
      "outputs": [
        {
          "execution_count": 143,
          "output_type": "execute_result",
          "data": {
            "text/plain": "True"
          },
          "metadata": {}
        }
      ]
    },
    {
      "cell_type": "code",
      "source": "np.any(a>17, axis = 0)",
      "metadata": {
        "trusted": true
      },
      "execution_count": 145,
      "outputs": [
        {
          "execution_count": 145,
          "output_type": "execute_result",
          "data": {
            "text/plain": "array([False, False, False,  True,  True])"
          },
          "metadata": {}
        }
      ]
    },
    {
      "cell_type": "code",
      "source": "np.any(a>17, axis=1)",
      "metadata": {
        "trusted": true
      },
      "execution_count": 146,
      "outputs": [
        {
          "execution_count": 146,
          "output_type": "execute_result",
          "data": {
            "text/plain": "array([False, False, False,  True])"
          },
          "metadata": {}
        }
      ]
    },
    {
      "cell_type": "code",
      "source": "",
      "metadata": {},
      "execution_count": null,
      "outputs": []
    }
  ]
}