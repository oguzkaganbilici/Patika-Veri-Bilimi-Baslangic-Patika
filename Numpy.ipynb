{
  "metadata": {
    "language_info": {
      "codemirror_mode": {
        "name": "python",
        "version": 3
      },
      "file_extension": ".py",
      "mimetype": "text/x-python",
      "name": "python",
      "nbconvert_exporter": "python",
      "pygments_lexer": "ipython3",
      "version": "3.8"
    },
    "kernelspec": {
      "name": "python",
      "display_name": "Python (Pyodide)",
      "language": "python"
    }
  },
  "nbformat_minor": 4,
  "nbformat": 4,
  "cells": [
    {
      "cell_type": "markdown",
      "source": "# Numpy\n- Neden Numpy?\n    - Çünkü Numpy sayesinde hızlı nümerik işlemler yapabiliriz.\n- C, C++ gibi makine diline yakın diller Python'dan daha hızlıdır. C dilinde yazılan Numpy kütüphanesi Python dilinde daha hızlı nümerik işlemler yapmamızı sağlar.",
      "metadata": {}
    },
    {
      "cell_type": "markdown",
      "source": "## Numpy Array\n- Numpy array, Python'daki list'lerden tek farkı farklı veri tipinde eleman içeremez. Array içinde ki veri tipi tamamiyle aynı olmalıdır.",
      "metadata": {}
    },
    {
      "cell_type": "markdown",
      "source": "### Listeden Array yaratmak",
      "metadata": {}
    },
    {
      "cell_type": "code",
      "source": "import numpy as np",
      "metadata": {
        "trusted": true
      },
      "execution_count": 1,
      "outputs": []
    },
    {
      "cell_type": "code",
      "source": "x = np.array([1,2,3,4,5])\nx",
      "metadata": {
        "trusted": true
      },
      "execution_count": 2,
      "outputs": [
        {
          "execution_count": 2,
          "output_type": "execute_result",
          "data": {
            "text/plain": "array([1, 2, 3, 4, 5])"
          },
          "metadata": {}
        }
      ]
    },
    {
      "cell_type": "code",
      "source": "type(x)",
      "metadata": {
        "trusted": true
      },
      "execution_count": 3,
      "outputs": [
        {
          "execution_count": 3,
          "output_type": "execute_result",
          "data": {
            "text/plain": "numpy.ndarray"
          },
          "metadata": {}
        }
      ]
    },
    {
      "cell_type": "markdown",
      "source": "- Bir array'a hem str hem de int verirsek, hata vermez fakat hepsini str'ye çevirir.",
      "metadata": {}
    },
    {
      "cell_type": "code",
      "source": "y = np.array([\"a\",\"b\",1,2,\"c\"])\ny",
      "metadata": {
        "trusted": true
      },
      "execution_count": 4,
      "outputs": [
        {
          "execution_count": 4,
          "output_type": "execute_result",
          "data": {
            "text/plain": "array(['a', 'b', '1', '2', 'c'], dtype='<U11')"
          },
          "metadata": {}
        }
      ]
    },
    {
      "cell_type": "markdown",
      "source": "- Bir array'a hem float hem de int verirsek, bütün sayıları float'a dönüstürür.",
      "metadata": {}
    },
    {
      "cell_type": "code",
      "source": "z = np.array([1,2,3,4.5,5.6,6,7])\nz",
      "metadata": {
        "trusted": true
      },
      "execution_count": 5,
      "outputs": [
        {
          "execution_count": 5,
          "output_type": "execute_result",
          "data": {
            "text/plain": "array([1. , 2. , 3. , 4.5, 5.6, 6. , 7. ])"
          },
          "metadata": {}
        }
      ]
    },
    {
      "cell_type": "markdown",
      "source": "- Bu durumda bir array için str>float>int gibi dusunebiliriz.",
      "metadata": {}
    },
    {
      "cell_type": "markdown",
      "source": "## Array'in Data Tipini Belirleme\n- Array'in elemanlarının tipinin ne olacağını manuel olarak belirleyebiliriz.",
      "metadata": {}
    },
    {
      "cell_type": "code",
      "source": "x = np.array([1,2,3,4.5], dtype=\"int32\")\nx",
      "metadata": {
        "trusted": true
      },
      "execution_count": 6,
      "outputs": [
        {
          "execution_count": 6,
          "output_type": "execute_result",
          "data": {
            "text/plain": "array([1, 2, 3, 4])"
          },
          "metadata": {}
        }
      ]
    },
    {
      "cell_type": "markdown",
      "source": "- dtype= \"..\" keyword'ü ile istediğimiz dönüsümü gerceklestirebiliriz",
      "metadata": {}
    },
    {
      "cell_type": "code",
      "source": "z = np.array([1,2,3,4,5], dtype=\"str\")\nz",
      "metadata": {
        "trusted": true
      },
      "execution_count": 7,
      "outputs": [
        {
          "execution_count": 7,
          "output_type": "execute_result",
          "data": {
            "text/plain": "array(['1', '2', '3', '4', '5'], dtype='<U1')"
          },
          "metadata": {}
        }
      ]
    },
    {
      "cell_type": "markdown",
      "source": "## Elemanları 0'dan oluşan bir array oluşturmak",
      "metadata": {}
    },
    {
      "cell_type": "code",
      "source": "np.zeros(10)",
      "metadata": {
        "trusted": true
      },
      "execution_count": 8,
      "outputs": [
        {
          "execution_count": 8,
          "output_type": "execute_result",
          "data": {
            "text/plain": "array([0., 0., 0., 0., 0., 0., 0., 0., 0., 0.])"
          },
          "metadata": {}
        }
      ]
    },
    {
      "cell_type": "markdown",
      "source": "- veri tipi belirtmediğimiz takdirde float olarak oluşturur.",
      "metadata": {}
    },
    {
      "cell_type": "code",
      "source": "np.zeros(10, dtype=\"str\")",
      "metadata": {
        "trusted": true
      },
      "execution_count": 9,
      "outputs": [
        {
          "execution_count": 9,
          "output_type": "execute_result",
          "data": {
            "text/plain": "array(['', '', '', '', '', '', '', '', '', ''], dtype='<U1')"
          },
          "metadata": {}
        }
      ]
    },
    {
      "cell_type": "markdown",
      "source": "## Elemanları 0'dan oluşan multidimensional array oluşturmak",
      "metadata": {}
    },
    {
      "cell_type": "markdown",
      "source": "- elemanları 0, 3 satır ve 4 sütunu olan bir array oluşturmak istersek",
      "metadata": {}
    },
    {
      "cell_type": "code",
      "source": "np.zeros((3,4))",
      "metadata": {
        "trusted": true
      },
      "execution_count": 10,
      "outputs": [
        {
          "execution_count": 10,
          "output_type": "execute_result",
          "data": {
            "text/plain": "array([[0., 0., 0., 0.],\n       [0., 0., 0., 0.],\n       [0., 0., 0., 0.]])"
          },
          "metadata": {}
        }
      ]
    },
    {
      "cell_type": "code",
      "source": "np.zeros([3,4], dtype=\"int\")",
      "metadata": {
        "trusted": true
      },
      "execution_count": 11,
      "outputs": [
        {
          "execution_count": 11,
          "output_type": "execute_result",
          "data": {
            "text/plain": "array([[0, 0, 0, 0],\n       [0, 0, 0, 0],\n       [0, 0, 0, 0]])"
          },
          "metadata": {}
        }
      ]
    },
    {
      "cell_type": "code",
      "source": "np.zeros([3,4], dtype=\"bool\")",
      "metadata": {
        "trusted": true
      },
      "execution_count": 12,
      "outputs": [
        {
          "execution_count": 12,
          "output_type": "execute_result",
          "data": {
            "text/plain": "array([[False, False, False, False],\n       [False, False, False, False],\n       [False, False, False, False]])"
          },
          "metadata": {}
        }
      ]
    },
    {
      "cell_type": "code",
      "source": "np.zeros([3,4,4])",
      "metadata": {
        "trusted": true
      },
      "execution_count": 13,
      "outputs": [
        {
          "execution_count": 13,
          "output_type": "execute_result",
          "data": {
            "text/plain": "array([[[0., 0., 0., 0.],\n        [0., 0., 0., 0.],\n        [0., 0., 0., 0.],\n        [0., 0., 0., 0.]],\n\n       [[0., 0., 0., 0.],\n        [0., 0., 0., 0.],\n        [0., 0., 0., 0.],\n        [0., 0., 0., 0.]],\n\n       [[0., 0., 0., 0.],\n        [0., 0., 0., 0.],\n        [0., 0., 0., 0.],\n        [0., 0., 0., 0.]]])"
          },
          "metadata": {}
        }
      ]
    },
    {
      "cell_type": "markdown",
      "source": "## Belirtilen Bir Elemandan Array Oluşturmak",
      "metadata": {}
    },
    {
      "cell_type": "code",
      "source": "np.full((4,5) ,5)",
      "metadata": {
        "trusted": true
      },
      "execution_count": 15,
      "outputs": [
        {
          "execution_count": 15,
          "output_type": "execute_result",
          "data": {
            "text/plain": "array([[5, 5, 5, 5, 5],\n       [5, 5, 5, 5, 5],\n       [5, 5, 5, 5, 5],\n       [5, 5, 5, 5, 5]])"
          },
          "metadata": {}
        }
      ]
    },
    {
      "cell_type": "markdown",
      "source": "- np.full( (x, y), z) fonksiyonundaki inputlar x,y büyüklüğünde elemanları z olur.",
      "metadata": {}
    },
    {
      "cell_type": "markdown",
      "source": "- veri olarak sadece int girmek zorunda değiliz",
      "metadata": {}
    },
    {
      "cell_type": "code",
      "source": "np.full( (4,5), \"a\")",
      "metadata": {
        "trusted": true
      },
      "execution_count": 17,
      "outputs": [
        {
          "execution_count": 17,
          "output_type": "execute_result",
          "data": {
            "text/plain": "array([['a', 'a', 'a', 'a', 'a'],\n       ['a', 'a', 'a', 'a', 'a'],\n       ['a', 'a', 'a', 'a', 'a'],\n       ['a', 'a', 'a', 'a', 'a']], dtype='<U1')"
          },
          "metadata": {}
        }
      ]
    },
    {
      "cell_type": "markdown",
      "source": "- 3. input olarak veri tipi de girebiliriz",
      "metadata": {}
    },
    {
      "cell_type": "code",
      "source": "np.full( (3,4) , 5.2, dtype=\"str\")",
      "metadata": {
        "trusted": true
      },
      "execution_count": 20,
      "outputs": [
        {
          "execution_count": 20,
          "output_type": "execute_result",
          "data": {
            "text/plain": "array([['5', '5', '5', '5'],\n       ['5', '5', '5', '5'],\n       ['5', '5', '5', '5']], dtype='<U1')"
          },
          "metadata": {}
        }
      ]
    },
    {
      "cell_type": "markdown",
      "source": "- fakat float bir değeri str'ye dönüştürürken ilk olarak int'e dönüştürür.\n- eğer str olarak bir float girmek istersek asagidaki sekilde girmemiz gerekir.",
      "metadata": {}
    },
    {
      "cell_type": "code",
      "source": "np.full( (4,5), \"5.2\")",
      "metadata": {
        "trusted": true
      },
      "execution_count": 21,
      "outputs": [
        {
          "execution_count": 21,
          "output_type": "execute_result",
          "data": {
            "text/plain": "array([['5.2', '5.2', '5.2', '5.2', '5.2'],\n       ['5.2', '5.2', '5.2', '5.2', '5.2'],\n       ['5.2', '5.2', '5.2', '5.2', '5.2'],\n       ['5.2', '5.2', '5.2', '5.2', '5.2']], dtype='<U3')"
          },
          "metadata": {}
        }
      ]
    },
    {
      "cell_type": "markdown",
      "source": "## Ardaşık Sayılardan Array Oluşturmak",
      "metadata": {}
    },
    {
      "cell_type": "markdown",
      "source": "- 0'dan 12'ye kadar sayılardan array oluşturmak istersek",
      "metadata": {}
    },
    {
      "cell_type": "code",
      "source": "np.arange(0,12)",
      "metadata": {
        "trusted": true
      },
      "execution_count": 24,
      "outputs": [
        {
          "execution_count": 24,
          "output_type": "execute_result",
          "data": {
            "text/plain": "array([ 0,  1,  2,  3,  4,  5,  6,  7,  8,  9, 10, 11])"
          },
          "metadata": {}
        }
      ]
    },
    {
      "cell_type": "markdown",
      "source": "- 2'şer artırarak sayıları almak istersek",
      "metadata": {}
    },
    {
      "cell_type": "code",
      "source": "np.arange(0,20,2)",
      "metadata": {
        "trusted": true
      },
      "execution_count": 28,
      "outputs": [
        {
          "execution_count": 28,
          "output_type": "execute_result",
          "data": {
            "text/plain": "array([ 0,  2,  4,  6,  8, 10, 12, 14, 16, 18])"
          },
          "metadata": {}
        }
      ]
    },
    {
      "cell_type": "markdown",
      "source": "## Aralığı Eşit Uzaklıktaki Noktalara Bölmek",
      "metadata": {}
    },
    {
      "cell_type": "markdown",
      "source": "- Örneğin 1 ve 2 arasını (1 ve 2 dahil) eşit uzaklıkta 50 noktaya bölmek istersek:",
      "metadata": {}
    },
    {
      "cell_type": "code",
      "source": "- np.linspace(1,2)",
      "metadata": {
        "trusted": true
      },
      "execution_count": 31,
      "outputs": [
        {
          "execution_count": 31,
          "output_type": "execute_result",
          "data": {
            "text/plain": "array([-1.        , -1.02040816, -1.04081633, -1.06122449, -1.08163265,\n       -1.10204082, -1.12244898, -1.14285714, -1.16326531, -1.18367347,\n       -1.20408163, -1.2244898 , -1.24489796, -1.26530612, -1.28571429,\n       -1.30612245, -1.32653061, -1.34693878, -1.36734694, -1.3877551 ,\n       -1.40816327, -1.42857143, -1.44897959, -1.46938776, -1.48979592,\n       -1.51020408, -1.53061224, -1.55102041, -1.57142857, -1.59183673,\n       -1.6122449 , -1.63265306, -1.65306122, -1.67346939, -1.69387755,\n       -1.71428571, -1.73469388, -1.75510204, -1.7755102 , -1.79591837,\n       -1.81632653, -1.83673469, -1.85714286, -1.87755102, -1.89795918,\n       -1.91836735, -1.93877551, -1.95918367, -1.97959184, -2.        ])"
          },
          "metadata": {}
        }
      ]
    },
    {
      "cell_type": "markdown",
      "source": "- Burada kaç nokta olduğunu vermezsek default olarak 50'ye böler\n- Eğer istediğimiz kadar aralığa bölmek istersek başlangıc ve bitis noktasından sonra num=x olarak istediğimiz kadar aralığa bölebiliriz",
      "metadata": {}
    },
    {
      "cell_type": "code",
      "source": "np.linspace(1,2, num=3)",
      "metadata": {
        "trusted": true
      },
      "execution_count": 33,
      "outputs": [
        {
          "execution_count": 33,
          "output_type": "execute_result",
          "data": {
            "text/plain": "array([1. , 1.5, 2. ])"
          },
          "metadata": {}
        }
      ]
    },
    {
      "cell_type": "markdown",
      "source": "- Normalde default olarak bitis elemanını da dahil eder. ama istersek endpoint = false ile bitiş noktasını dahil etmeyebiliriz",
      "metadata": {}
    },
    {
      "cell_type": "code",
      "source": "np.linspace(1,2, num=3, endpoint=False)",
      "metadata": {
        "trusted": true
      },
      "execution_count": 34,
      "outputs": [
        {
          "execution_count": 34,
          "output_type": "execute_result",
          "data": {
            "text/plain": "array([1.        , 1.33333333, 1.66666667])"
          },
          "metadata": {}
        }
      ]
    },
    {
      "cell_type": "markdown",
      "source": "## Normal Distribution'dan Çekilmiş Değerlerden Array Oluşturmak",
      "metadata": {}
    },
    {
      "cell_type": "markdown",
      "source": "- np.random.normal(mean, standart_sapma, (array_size)) ile bir array oluşturabiliriz\n",
      "metadata": {}
    },
    {
      "cell_type": "code",
      "source": "np.random.normal(0,1, (3,4))",
      "metadata": {
        "trusted": true
      },
      "execution_count": 37,
      "outputs": [
        {
          "execution_count": 37,
          "output_type": "execute_result",
          "data": {
            "text/plain": "array([[ 0.8799111 , -0.96502188, -1.36710957,  1.05824521],\n       [-0.86366259,  0.3273051 , -0.21854387, -0.90252949],\n       [ 1.09653177, -0.27735361, -0.32352746,  0.40580242]])"
          },
          "metadata": {}
        }
      ]
    },
    {
      "cell_type": "code",
      "source": "np.random.normal(0,100, (3,4))",
      "metadata": {
        "trusted": true
      },
      "execution_count": 39,
      "outputs": [
        {
          "execution_count": 39,
          "output_type": "execute_result",
          "data": {
            "text/plain": "array([[-129.59705803,   53.17985858,   67.47072588,  111.46222632],\n       [ 100.8285207 ,  229.43651742,  141.09924618,   53.86964642],\n       [  74.1017428 ,  -72.02140617,   16.89580472,   52.31436945]])"
          },
          "metadata": {}
        }
      ]
    },
    {
      "cell_type": "markdown",
      "source": "## Random int'lar ile array oluşturmak",
      "metadata": {}
    },
    {
      "cell_type": "markdown",
      "source": "- np.random.randint(baslangic, bitis, (array_size)) ile istenilen aralıkta istenilen boyutta arraylar üretebiliriz. \n- bitis bu aralığa dahil değildir",
      "metadata": {}
    },
    {
      "cell_type": "code",
      "source": "np.random.randint(1,10, (3,4))",
      "metadata": {
        "trusted": true
      },
      "execution_count": 44,
      "outputs": [
        {
          "execution_count": 44,
          "output_type": "execute_result",
          "data": {
            "text/plain": "array([[3, 9, 3, 4],\n       [8, 2, 6, 8],\n       [2, 4, 4, 7]])"
          },
          "metadata": {}
        }
      ]
    },
    {
      "cell_type": "code",
      "source": "np.random.randint(1,10, (3,4,5))",
      "metadata": {
        "trusted": true
      },
      "execution_count": 46,
      "outputs": [
        {
          "execution_count": 46,
          "output_type": "execute_result",
          "data": {
            "text/plain": "array([[[8, 3, 4, 8, 5],\n        [2, 5, 8, 2, 8],\n        [8, 6, 5, 4, 8],\n        [7, 3, 1, 2, 8]],\n\n       [[2, 6, 1, 5, 1],\n        [8, 2, 5, 7, 6],\n        [1, 3, 7, 4, 2],\n        [9, 8, 7, 4, 6]],\n\n       [[3, 4, 6, 2, 8],\n        [8, 7, 8, 6, 5],\n        [7, 8, 7, 2, 3],\n        [8, 8, 2, 2, 1]]])"
          },
          "metadata": {}
        }
      ]
    },
    {
      "cell_type": "code",
      "source": "d = {}\n\nfor _ in range (20000):\n    val = np.random.randint(1,11)    \n    if val not in d:\n        d[val] = 1\n    else:\n        d[val] += 1\n        \nd",
      "metadata": {
        "trusted": true
      },
      "execution_count": 55,
      "outputs": [
        {
          "execution_count": 55,
          "output_type": "execute_result",
          "data": {
            "text/plain": "{6: 1985,\n 3: 2011,\n 8: 2170,\n 4: 1916,\n 9: 1915,\n 1: 2046,\n 2: 1956,\n 10: 2037,\n 5: 2004,\n 7: 1960}"
          },
          "metadata": {}
        }
      ]
    },
    {
      "cell_type": "markdown",
      "source": "## Identity (Birim) Matris Oluşturmak",
      "metadata": {}
    },
    {
      "cell_type": "markdown",
      "source": "- Bir birim matrisi oluşturmak için np.eye(x,y) fonksiyonunu kullanırız\n",
      "metadata": {}
    },
    {
      "cell_type": "code",
      "source": "np.eye(3,4)",
      "metadata": {
        "trusted": true
      },
      "execution_count": 56,
      "outputs": [
        {
          "execution_count": 56,
          "output_type": "execute_result",
          "data": {
            "text/plain": "array([[1., 0., 0., 0.],\n       [0., 1., 0., 0.],\n       [0., 0., 1., 0.]])"
          },
          "metadata": {}
        }
      ]
    },
    {
      "cell_type": "code",
      "source": "np.eye(3,3, dtype=\"int\")",
      "metadata": {
        "trusted": true
      },
      "execution_count": 58,
      "outputs": [
        {
          "execution_count": 58,
          "output_type": "execute_result",
          "data": {
            "text/plain": "array([[1, 0, 0],\n       [0, 1, 0],\n       [0, 0, 1]])"
          },
          "metadata": {}
        }
      ]
    },
    {
      "cell_type": "markdown",
      "source": "## Array İşlemleri",
      "metadata": {}
    },
    {
      "cell_type": "markdown",
      "source": "- \"*\" operatörü iki list arasında tanımsızdır. iki listeyi * ile çarpamayız",
      "metadata": {}
    },
    {
      "cell_type": "code",
      "source": "a = [1,2,3,4,5]\nb = [2,3,4,5,6]\n\na*b",
      "metadata": {
        "trusted": true
      },
      "execution_count": 62,
      "outputs": [
        {
          "ename": "<class 'TypeError'>",
          "evalue": "can't multiply sequence by non-int of type 'list'",
          "traceback": [
            "\u001b[0;31m---------------------------------------------------------------------------\u001b[0m",
            "\u001b[0;31mTypeError\u001b[0m                                 Traceback (most recent call last)",
            "Cell \u001b[0;32mIn[62], line 4\u001b[0m\n\u001b[1;32m      1\u001b[0m a \u001b[38;5;241m=\u001b[39m [\u001b[38;5;241m1\u001b[39m,\u001b[38;5;241m2\u001b[39m,\u001b[38;5;241m3\u001b[39m,\u001b[38;5;241m4\u001b[39m,\u001b[38;5;241m5\u001b[39m]\n\u001b[1;32m      2\u001b[0m b \u001b[38;5;241m=\u001b[39m [\u001b[38;5;241m2\u001b[39m,\u001b[38;5;241m3\u001b[39m,\u001b[38;5;241m4\u001b[39m,\u001b[38;5;241m5\u001b[39m,\u001b[38;5;241m6\u001b[39m]\n\u001b[0;32m----> 4\u001b[0m \u001b[43ma\u001b[49m\u001b[38;5;241;43m*\u001b[39;49m\u001b[43mb\u001b[49m\n",
            "\u001b[0;31mTypeError\u001b[0m: can't multiply sequence by non-int of type 'list'"
          ],
          "output_type": "error"
        }
      ]
    },
    {
      "cell_type": "markdown",
      "source": "- Bir list'i bir int ile çarparsak o int kadar listeyi yanyana yazar. sayısal bir çarpma işlemi gerçekleştirmez",
      "metadata": {}
    },
    {
      "cell_type": "code",
      "source": "[2,3,4,5] * 3",
      "metadata": {
        "trusted": true
      },
      "execution_count": 63,
      "outputs": [
        {
          "execution_count": 63,
          "output_type": "execute_result",
          "data": {
            "text/plain": "[2, 3, 4, 5, 2, 3, 4, 5, 2, 3, 4, 5]"
          },
          "metadata": {}
        }
      ]
    },
    {
      "cell_type": "markdown",
      "source": "- Fakat * operatörü iki numpy arasında işlem gerceklestirebilir. eleman bazlı carpma yapabilir.\n- Bu 2 numpy arrayin eleman sayisi ayni olmalidir.",
      "metadata": {}
    },
    {
      "cell_type": "code",
      "source": "a = np.array([1,2,3,4,5])\nb = np.array([2,3,4,5,6])\n\na*b",
      "metadata": {
        "trusted": true
      },
      "execution_count": 65,
      "outputs": [
        {
          "execution_count": 65,
          "output_type": "execute_result",
          "data": {
            "text/plain": "array([ 2,  6, 12, 20, 30])"
          },
          "metadata": {}
        }
      ]
    },
    {
      "cell_type": "markdown",
      "source": "- Aynı şekilde list + list islemi yaptıgımızda concatination işlemi yaparken, array + array işleminde eleman bazlı toplama yapılır.",
      "metadata": {}
    },
    {
      "cell_type": "code",
      "source": "a + b",
      "metadata": {
        "trusted": true
      },
      "execution_count": 68,
      "outputs": [
        {
          "execution_count": 68,
          "output_type": "execute_result",
          "data": {
            "text/plain": "array([ 3,  5,  7,  9, 11])"
          },
          "metadata": {}
        }
      ]
    },
    {
      "cell_type": "markdown",
      "source": "- Bir int ile bir arrayi çarptigimizda da eleman bazlı carpma işlemi gerçekleştirilir.",
      "metadata": {}
    },
    {
      "cell_type": "code",
      "source": "print(\"a: \", a)\nprint(\"a * 3: \", 3*a)",
      "metadata": {
        "trusted": true
      },
      "execution_count": 70,
      "outputs": [
        {
          "name": "stdout",
          "text": "a:  [1 2 3 4 5]\na * 3:  [ 3  6  9 12 15]\n",
          "output_type": "stream"
        }
      ]
    },
    {
      "cell_type": "markdown",
      "source": "## Array Attributes",
      "metadata": {}
    },
    {
      "cell_type": "markdown",
      "source": "- XX.shape ile bir matrisin satır ve sütun sayılarını bulabiliriz.",
      "metadata": {}
    },
    {
      "cell_type": "code",
      "source": "x = np.zeros((2,3), dtype=\"int\")\nx",
      "metadata": {
        "trusted": true
      },
      "execution_count": 73,
      "outputs": [
        {
          "execution_count": 73,
          "output_type": "execute_result",
          "data": {
            "text/plain": "array([[0, 0, 0],\n       [0, 0, 0]])"
          },
          "metadata": {}
        }
      ]
    },
    {
      "cell_type": "code",
      "source": "y = np.zeros((2,5,4), dtype=\"int\")\ny",
      "metadata": {
        "trusted": true
      },
      "execution_count": 75,
      "outputs": [
        {
          "execution_count": 75,
          "output_type": "execute_result",
          "data": {
            "text/plain": "array([[[0, 0, 0, 0],\n        [0, 0, 0, 0],\n        [0, 0, 0, 0],\n        [0, 0, 0, 0],\n        [0, 0, 0, 0]],\n\n       [[0, 0, 0, 0],\n        [0, 0, 0, 0],\n        [0, 0, 0, 0],\n        [0, 0, 0, 0],\n        [0, 0, 0, 0]]])"
          },
          "metadata": {}
        }
      ]
    },
    {
      "cell_type": "code",
      "source": "x.shape",
      "metadata": {
        "trusted": true
      },
      "execution_count": 76,
      "outputs": [
        {
          "execution_count": 76,
          "output_type": "execute_result",
          "data": {
            "text/plain": "(2, 3)"
          },
          "metadata": {}
        }
      ]
    },
    {
      "cell_type": "code",
      "source": "y.shape",
      "metadata": {
        "trusted": true
      },
      "execution_count": 77,
      "outputs": [
        {
          "execution_count": 77,
          "output_type": "execute_result",
          "data": {
            "text/plain": "(2, 5, 4)"
          },
          "metadata": {}
        }
      ]
    },
    {
      "cell_type": "markdown",
      "source": "- XX.ndim ise o matrisin kaç dimension'a sahip olduğunu gösterir. Örneğin:",
      "metadata": {}
    },
    {
      "cell_type": "code",
      "source": "x.ndim",
      "metadata": {
        "trusted": true
      },
      "execution_count": 80,
      "outputs": [
        {
          "execution_count": 80,
          "output_type": "execute_result",
          "data": {
            "text/plain": "2"
          },
          "metadata": {}
        }
      ]
    },
    {
      "cell_type": "code",
      "source": "y.ndim",
      "metadata": {
        "trusted": true
      },
      "execution_count": 81,
      "outputs": [
        {
          "execution_count": 81,
          "output_type": "execute_result",
          "data": {
            "text/plain": "3"
          },
          "metadata": {}
        }
      ]
    },
    {
      "cell_type": "markdown",
      "source": "- XX.size ise o matrisin kaç elemanlı olduğunu döndürür.",
      "metadata": {}
    },
    {
      "cell_type": "code",
      "source": "x.size",
      "metadata": {
        "trusted": true
      },
      "execution_count": 82,
      "outputs": [
        {
          "execution_count": 82,
          "output_type": "execute_result",
          "data": {
            "text/plain": "6"
          },
          "metadata": {}
        }
      ]
    },
    {
      "cell_type": "code",
      "source": "y.size",
      "metadata": {
        "trusted": true
      },
      "execution_count": 83,
      "outputs": [
        {
          "execution_count": 83,
          "output_type": "execute_result",
          "data": {
            "text/plain": "40"
          },
          "metadata": {}
        }
      ]
    },
    {
      "cell_type": "markdown",
      "source": "- XX.dtype o matrisin veri tipini gösterir.",
      "metadata": {}
    },
    {
      "cell_type": "code",
      "source": "x.dtype",
      "metadata": {
        "trusted": true
      },
      "execution_count": 85,
      "outputs": [
        {
          "execution_count": 85,
          "output_type": "execute_result",
          "data": {
            "text/plain": "dtype('int32')"
          },
          "metadata": {}
        }
      ]
    },
    {
      "cell_type": "code",
      "source": "",
      "metadata": {},
      "execution_count": null,
      "outputs": []
    }
  ]
}