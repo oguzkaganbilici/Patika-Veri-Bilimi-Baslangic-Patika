{
  "metadata": {
    "language_info": {
      "codemirror_mode": {
        "name": "python",
        "version": 3
      },
      "file_extension": ".py",
      "mimetype": "text/x-python",
      "name": "python",
      "nbconvert_exporter": "python",
      "pygments_lexer": "ipython3",
      "version": "3.8"
    },
    "kernelspec": {
      "name": "python",
      "display_name": "Python (Pyodide)",
      "language": "python"
    }
  },
  "nbformat_minor": 4,
  "nbformat": 4,
  "cells": [
    {
      "cell_type": "markdown",
      "source": "# Pandas\nPandas; veriyi yüklemek, analiz etmek, temizlemek, işlemek ve görselleştirmek için kullanılan bir Python kütüphanesidir.",
      "metadata": {}
    },
    {
      "cell_type": "code",
      "source": "import pandas as pd\nimport numpy as np",
      "metadata": {
        "trusted": true
      },
      "execution_count": 1,
      "outputs": []
    },
    {
      "cell_type": "markdown",
      "source": "## Pandas Series\n- Pandas Series, her değerin bir indekse sahip olduğu tek boyutlu bir array'dir. \n\nİlk olarak G7 ülkeri olan Kanada, Fransa, Almanya, İtalya, Japonya, İngiltere ve Amerika'nın popülasyonlarını analiz etmekle başlayalım. Bunun için pandas.Series'leri kullanacağız.",
      "metadata": {}
    },
    {
      "cell_type": "code",
      "source": "g7_pop = pd.Series([35.467, 63.951, 80.940, 60.665, 127.061, 64.511, 318.523])\ng7_pop",
      "metadata": {
        "trusted": true
      },
      "execution_count": 2,
      "outputs": [
        {
          "execution_count": 2,
          "output_type": "execute_result",
          "data": {
            "text/plain": "0     35.467\n1     63.951\n2     80.940\n3     60.665\n4    127.061\n5     64.511\n6    318.523\ndtype: float64"
          },
          "metadata": {}
        }
      ]
    },
    {
      "cell_type": "markdown",
      "source": "- Series'ler bir isme sahip olabilir. ",
      "metadata": {}
    },
    {
      "cell_type": "code",
      "source": "g7_pop.name = \"G7 Population in millions\"\ng7_pop",
      "metadata": {
        "trusted": true
      },
      "execution_count": 3,
      "outputs": [
        {
          "execution_count": 3,
          "output_type": "execute_result",
          "data": {
            "text/plain": "0     35.467\n1     63.951\n2     80.940\n3     60.665\n4    127.061\n5     64.511\n6    318.523\nName: G7 Population in millions, dtype: float64"
          },
          "metadata": {}
        }
      ]
    },
    {
      "cell_type": "markdown",
      "source": "- Series'lerin veri tipine bakabiliriz.",
      "metadata": {}
    },
    {
      "cell_type": "code",
      "source": "g7_pop.dtype",
      "metadata": {
        "trusted": true
      },
      "execution_count": 4,
      "outputs": [
        {
          "execution_count": 4,
          "output_type": "execute_result",
          "data": {
            "text/plain": "dtype('float64')"
          },
          "metadata": {}
        }
      ]
    },
    {
      "cell_type": "markdown",
      "source": "- Series'lerin değerlerini bir numpy array olarak döndürebiliriz.",
      "metadata": {}
    },
    {
      "cell_type": "code",
      "source": "g7_pop.values",
      "metadata": {
        "trusted": true
      },
      "execution_count": 5,
      "outputs": [
        {
          "execution_count": 5,
          "output_type": "execute_result",
          "data": {
            "text/plain": "array([ 35.467,  63.951,  80.94 ,  60.665, 127.061,  64.511, 318.523])"
          },
          "metadata": {}
        }
      ]
    },
    {
      "cell_type": "markdown",
      "source": "- Seriesler temel olarak python list'lerine veya numpy array'lerine benzer. Fakat daha çok python dict'e yakındır. Çünkü diğerlerinden farklı olarak otomatik atanan bir index'e sahiptirler",
      "metadata": {}
    },
    {
      "cell_type": "code",
      "source": "g7_pop",
      "metadata": {
        "trusted": true
      },
      "execution_count": 6,
      "outputs": [
        {
          "execution_count": 6,
          "output_type": "execute_result",
          "data": {
            "text/plain": "0     35.467\n1     63.951\n2     80.940\n3     60.665\n4    127.061\n5     64.511\n6    318.523\nName: G7 Population in millions, dtype: float64"
          },
          "metadata": {}
        }
      ]
    },
    {
      "cell_type": "code",
      "source": "g7_pop.index",
      "metadata": {
        "trusted": true
      },
      "execution_count": 7,
      "outputs": [
        {
          "execution_count": 7,
          "output_type": "execute_result",
          "data": {
            "text/plain": "RangeIndex(start=0, stop=7, step=1)"
          },
          "metadata": {}
        }
      ]
    },
    {
      "cell_type": "markdown",
      "source": "- bir tabloya benzetmek için bu indexleri değiştirebiliriz.",
      "metadata": {}
    },
    {
      "cell_type": "code",
      "source": "g7_pop.index=[\"Canada\", \"France\", \"Germany\", \"Italy\", \"Japan\", \"United Kingdom\", \"United States\"]",
      "metadata": {
        "trusted": true
      },
      "execution_count": 8,
      "outputs": []
    },
    {
      "cell_type": "code",
      "source": "g7_pop",
      "metadata": {
        "trusted": true
      },
      "execution_count": 9,
      "outputs": [
        {
          "execution_count": 9,
          "output_type": "execute_result",
          "data": {
            "text/plain": "Canada             35.467\nFrance             63.951\nGermany            80.940\nItaly              60.665\nJapan             127.061\nUnited Kingdom     64.511\nUnited States     318.523\nName: G7 Population in millions, dtype: float64"
          },
          "metadata": {}
        }
      ]
    },
    {
      "cell_type": "markdown",
      "source": "## Indexing\n- Index işlemi list'ler ve dicts'lere benzer olarak çalışır. Aradığımız değerin index'ini kullanırız.",
      "metadata": {}
    },
    {
      "cell_type": "code",
      "source": "g7_pop",
      "metadata": {
        "trusted": true
      },
      "execution_count": 10,
      "outputs": [
        {
          "execution_count": 10,
          "output_type": "execute_result",
          "data": {
            "text/plain": "Canada             35.467\nFrance             63.951\nGermany            80.940\nItaly              60.665\nJapan             127.061\nUnited Kingdom     64.511\nUnited States     318.523\nName: G7 Population in millions, dtype: float64"
          },
          "metadata": {}
        }
      ]
    },
    {
      "cell_type": "code",
      "source": "g7_pop[\"Canada\"]",
      "metadata": {
        "trusted": true
      },
      "execution_count": 11,
      "outputs": [
        {
          "execution_count": 11,
          "output_type": "execute_result",
          "data": {
            "text/plain": "35.467"
          },
          "metadata": {}
        }
      ]
    },
    {
      "cell_type": "code",
      "source": "g7_pop.Japan",
      "metadata": {
        "trusted": true
      },
      "execution_count": 12,
      "outputs": [
        {
          "execution_count": 12,
          "output_type": "execute_result",
          "data": {
            "text/plain": "127.061"
          },
          "metadata": {}
        }
      ]
    },
    {
      "cell_type": "markdown",
      "source": "- Serinin ilk, son veya herhangi bir değerine ulaşmak için .iloc methodu da kullanılabilir.",
      "metadata": {}
    },
    {
      "cell_type": "code",
      "source": "g7_pop.iloc[0]",
      "metadata": {
        "trusted": true
      },
      "execution_count": 13,
      "outputs": [
        {
          "execution_count": 13,
          "output_type": "execute_result",
          "data": {
            "text/plain": "35.467"
          },
          "metadata": {}
        }
      ]
    },
    {
      "cell_type": "code",
      "source": "g7_pop.iloc[-1]",
      "metadata": {
        "trusted": true
      },
      "execution_count": 14,
      "outputs": [
        {
          "execution_count": 14,
          "output_type": "execute_result",
          "data": {
            "text/plain": "318.523"
          },
          "metadata": {}
        }
      ]
    },
    {
      "cell_type": "markdown",
      "source": "- Tek seferde çoklu elemanlar seçebiliriz.",
      "metadata": {}
    },
    {
      "cell_type": "code",
      "source": "g7_pop[[\"Italy\", \"France\"]]",
      "metadata": {
        "trusted": true
      },
      "execution_count": 15,
      "outputs": [
        {
          "execution_count": 15,
          "output_type": "execute_result",
          "data": {
            "text/plain": "Italy     60.665\nFrance    63.951\nName: G7 Population in millions, dtype: float64"
          },
          "metadata": {}
        }
      ]
    },
    {
      "cell_type": "code",
      "source": "g7_pop.iloc[[0,1]]",
      "metadata": {
        "trusted": true
      },
      "execution_count": 16,
      "outputs": [
        {
          "execution_count": 16,
          "output_type": "execute_result",
          "data": {
            "text/plain": "Canada    35.467\nFrance    63.951\nName: G7 Population in millions, dtype: float64"
          },
          "metadata": {}
        }
      ]
    },
    {
      "cell_type": "markdown",
      "source": "- Bunu slicing şeklinde de gerçekleştirebiliriz, fakat farklı olarak pandas'ta verdiğimiz üst limit de dahil edilir",
      "metadata": {}
    },
    {
      "cell_type": "code",
      "source": "g7_pop[\"Canada\": \"Italy\"]",
      "metadata": {
        "trusted": true
      },
      "execution_count": 17,
      "outputs": [
        {
          "execution_count": 17,
          "output_type": "execute_result",
          "data": {
            "text/plain": "Canada     35.467\nFrance     63.951\nGermany    80.940\nItaly      60.665\nName: G7 Population in millions, dtype: float64"
          },
          "metadata": {}
        }
      ]
    },
    {
      "cell_type": "markdown",
      "source": "## Koşullu seçim (boolean arrays)\n- Numpy'da kullanılan filtrelemelerin aynısı pandas.Series'te de gerçekleştirebiliriz.",
      "metadata": {}
    },
    {
      "cell_type": "code",
      "source": "g7_pop",
      "metadata": {
        "trusted": true
      },
      "execution_count": 18,
      "outputs": [
        {
          "execution_count": 18,
          "output_type": "execute_result",
          "data": {
            "text/plain": "Canada             35.467\nFrance             63.951\nGermany            80.940\nItaly              60.665\nJapan             127.061\nUnited Kingdom     64.511\nUnited States     318.523\nName: G7 Population in millions, dtype: float64"
          },
          "metadata": {}
        }
      ]
    },
    {
      "cell_type": "markdown",
      "source": "g7_pop[g7_pop > 70]",
      "metadata": {}
    },
    {
      "cell_type": "markdown",
      "source": "- bu serinin ortalamasını bulalım",
      "metadata": {}
    },
    {
      "cell_type": "code",
      "source": "g7_pop.mean()",
      "metadata": {
        "trusted": true
      },
      "execution_count": 19,
      "outputs": [
        {
          "execution_count": 19,
          "output_type": "execute_result",
          "data": {
            "text/plain": "107.30257142857144"
          },
          "metadata": {}
        }
      ]
    },
    {
      "cell_type": "markdown",
      "source": "- ortalamadan yüksek ülkeleri bulmak istersek:",
      "metadata": {}
    },
    {
      "cell_type": "code",
      "source": "g7_pop[g7_pop > g7_pop.mean()]",
      "metadata": {
        "trusted": true
      },
      "execution_count": 20,
      "outputs": [
        {
          "execution_count": 20,
          "output_type": "execute_result",
          "data": {
            "text/plain": "Japan            127.061\nUnited States    318.523\nName: G7 Population in millions, dtype: float64"
          },
          "metadata": {}
        }
      ]
    },
    {
      "cell_type": "code",
      "source": "g7_pop[ (g7_pop > g7_pop.mean() - g7_pop.std() / 2) | (g7_pop > g7_pop.mean() + g7_pop.std() / 2) ]",
      "metadata": {
        "trusted": true
      },
      "execution_count": 21,
      "outputs": [
        {
          "execution_count": 21,
          "output_type": "execute_result",
          "data": {
            "text/plain": "France             63.951\nGermany            80.940\nItaly              60.665\nJapan             127.061\nUnited Kingdom     64.511\nUnited States     318.523\nName: G7 Population in millions, dtype: float64"
          },
          "metadata": {}
        }
      ]
    },
    {
      "cell_type": "markdown",
      "source": "## Operations ve Methodlar\n- Series'ler ayrıca numpy array'ler gibi operations ve method'ları da destekler",
      "metadata": {}
    },
    {
      "cell_type": "code",
      "source": "g7_pop",
      "metadata": {
        "trusted": true
      },
      "execution_count": 22,
      "outputs": [
        {
          "execution_count": 22,
          "output_type": "execute_result",
          "data": {
            "text/plain": "Canada             35.467\nFrance             63.951\nGermany            80.940\nItaly              60.665\nJapan             127.061\nUnited Kingdom     64.511\nUnited States     318.523\nName: G7 Population in millions, dtype: float64"
          },
          "metadata": {}
        }
      ]
    },
    {
      "cell_type": "code",
      "source": "g7_pop * 1_000_000",
      "metadata": {
        "trusted": true
      },
      "execution_count": 23,
      "outputs": [
        {
          "execution_count": 23,
          "output_type": "execute_result",
          "data": {
            "text/plain": "Canada             35467000.0\nFrance             63951000.0\nGermany            80940000.0\nItaly              60665000.0\nJapan             127061000.0\nUnited Kingdom     64511000.0\nUnited States     318523000.0\nName: G7 Population in millions, dtype: float64"
          },
          "metadata": {}
        }
      ]
    },
    {
      "cell_type": "code",
      "source": "g7_pop.mean()\n",
      "metadata": {
        "trusted": true
      },
      "execution_count": 24,
      "outputs": [
        {
          "execution_count": 24,
          "output_type": "execute_result",
          "data": {
            "text/plain": "107.30257142857144"
          },
          "metadata": {}
        }
      ]
    },
    {
      "cell_type": "code",
      "source": "g7_pop[ (g7_pop > 80) | (g7_pop < 200)]",
      "metadata": {
        "trusted": true
      },
      "execution_count": 25,
      "outputs": [
        {
          "execution_count": 25,
          "output_type": "execute_result",
          "data": {
            "text/plain": "Canada             35.467\nFrance             63.951\nGermany            80.940\nItaly              60.665\nJapan             127.061\nUnited Kingdom     64.511\nUnited States     318.523\nName: G7 Population in millions, dtype: float64"
          },
          "metadata": {}
        }
      ]
    },
    {
      "cell_type": "markdown",
      "source": "## Bir Series'i değiştirmek",
      "metadata": {}
    },
    {
      "cell_type": "code",
      "source": "g7_pop[\"Canada\"] = 40.5\ng7_pop",
      "metadata": {
        "trusted": true
      },
      "execution_count": 26,
      "outputs": [
        {
          "execution_count": 26,
          "output_type": "execute_result",
          "data": {
            "text/plain": "Canada             40.500\nFrance             63.951\nGermany            80.940\nItaly              60.665\nJapan             127.061\nUnited Kingdom     64.511\nUnited States     318.523\nName: G7 Population in millions, dtype: float64"
          },
          "metadata": {}
        }
      ]
    },
    {
      "cell_type": "code",
      "source": "g7_pop.iloc[-1] = 500\ng7_pop",
      "metadata": {
        "trusted": true
      },
      "execution_count": 27,
      "outputs": [
        {
          "execution_count": 27,
          "output_type": "execute_result",
          "data": {
            "text/plain": "Canada             40.500\nFrance             63.951\nGermany            80.940\nItaly              60.665\nJapan             127.061\nUnited Kingdom     64.511\nUnited States     500.000\nName: G7 Population in millions, dtype: float64"
          },
          "metadata": {}
        }
      ]
    },
    {
      "cell_type": "code",
      "source": "g7_pop[g7_pop < 70] = 99.99\ng7_pop",
      "metadata": {
        "trusted": true
      },
      "execution_count": 28,
      "outputs": [
        {
          "execution_count": 28,
          "output_type": "execute_result",
          "data": {
            "text/plain": "Canada             99.990\nFrance             99.990\nGermany            80.940\nItaly              99.990\nJapan             127.061\nUnited Kingdom     99.990\nUnited States     500.000\nName: G7 Population in millions, dtype: float64"
          },
          "metadata": {}
        }
      ]
    },
    {
      "cell_type": "markdown",
      "source": "## Pandas Dataframes - Veri Tabloları\n- Pandas Dataframe, satır ve sütunlardan oluşan 2 boyutlu bir tablodur.\n\nG7 ülkelerinin analiz etmeye devam edelim ve dataframe üzerinde bakalım. DataFrame'ler tablolara çok benzemektedir.",
      "metadata": {}
    },
    {
      "cell_type": "code",
      "source": "df = pd.DataFrame({\n    'Population': [35.467, 63.951, 80.94 , 60.665, 127.061, 64.511, 318.523],\n    'GDP': [\n        1785387,\n        2833687,\n        3874437,\n        2167744,\n        4602367,\n        2950039,\n        17348075\n    ],\n    'Surface Area': [\n        9984670,\n        640679,\n        357114,\n        301336,\n        377930,\n        242495,\n        9525067\n    ],\n    'HDI': [\n        0.913,\n        0.888,\n        0.916,\n        0.873,\n        0.891,\n        0.907,\n        0.915\n    ],\n    'Continent': [\n        'America',\n        'Europe',\n        'Europe',\n        'Europe',\n        'Asia',\n        'Europe',\n        'America'\n    ]\n}, columns=['Population', 'GDP', 'Surface Area', 'HDI', 'Continent'])\ndf",
      "metadata": {
        "trusted": true
      },
      "execution_count": 29,
      "outputs": [
        {
          "execution_count": 29,
          "output_type": "execute_result",
          "data": {
            "text/plain": "   Population       GDP  Surface Area    HDI Continent\n0      35.467   1785387       9984670  0.913   America\n1      63.951   2833687        640679  0.888    Europe\n2      80.940   3874437        357114  0.916    Europe\n3      60.665   2167744        301336  0.873    Europe\n4     127.061   4602367        377930  0.891      Asia\n5      64.511   2950039        242495  0.907    Europe\n6     318.523  17348075       9525067  0.915   America",
            "text/html": "<div>\n<style scoped>\n    .dataframe tbody tr th:only-of-type {\n        vertical-align: middle;\n    }\n\n    .dataframe tbody tr th {\n        vertical-align: top;\n    }\n\n    .dataframe thead th {\n        text-align: right;\n    }\n</style>\n<table border=\"1\" class=\"dataframe\">\n  <thead>\n    <tr style=\"text-align: right;\">\n      <th></th>\n      <th>Population</th>\n      <th>GDP</th>\n      <th>Surface Area</th>\n      <th>HDI</th>\n      <th>Continent</th>\n    </tr>\n  </thead>\n  <tbody>\n    <tr>\n      <th>0</th>\n      <td>35.467</td>\n      <td>1785387</td>\n      <td>9984670</td>\n      <td>0.913</td>\n      <td>America</td>\n    </tr>\n    <tr>\n      <th>1</th>\n      <td>63.951</td>\n      <td>2833687</td>\n      <td>640679</td>\n      <td>0.888</td>\n      <td>Europe</td>\n    </tr>\n    <tr>\n      <th>2</th>\n      <td>80.940</td>\n      <td>3874437</td>\n      <td>357114</td>\n      <td>0.916</td>\n      <td>Europe</td>\n    </tr>\n    <tr>\n      <th>3</th>\n      <td>60.665</td>\n      <td>2167744</td>\n      <td>301336</td>\n      <td>0.873</td>\n      <td>Europe</td>\n    </tr>\n    <tr>\n      <th>4</th>\n      <td>127.061</td>\n      <td>4602367</td>\n      <td>377930</td>\n      <td>0.891</td>\n      <td>Asia</td>\n    </tr>\n    <tr>\n      <th>5</th>\n      <td>64.511</td>\n      <td>2950039</td>\n      <td>242495</td>\n      <td>0.907</td>\n      <td>Europe</td>\n    </tr>\n    <tr>\n      <th>6</th>\n      <td>318.523</td>\n      <td>17348075</td>\n      <td>9525067</td>\n      <td>0.915</td>\n      <td>America</td>\n    </tr>\n  </tbody>\n</table>\n</div>"
          },
          "metadata": {}
        }
      ]
    },
    {
      "cell_type": "markdown",
      "source": "- Dataframe'ler de indexlere sahiptirler.",
      "metadata": {}
    },
    {
      "cell_type": "code",
      "source": "df.index = [\"Canada\",\n            \"France\",\n            \"Germany\",\n            \"Italy\",\n            \"Japan\",\n            \"United Kingdom\",\n            \"United States\"]\n\ndf",
      "metadata": {
        "trusted": true
      },
      "execution_count": 32,
      "outputs": [
        {
          "execution_count": 32,
          "output_type": "execute_result",
          "data": {
            "text/plain": "                Population       GDP  Surface Area    HDI Continent\nCanada              35.467   1785387       9984670  0.913   America\nFrance              63.951   2833687        640679  0.888    Europe\nGermany             80.940   3874437        357114  0.916    Europe\nItaly               60.665   2167744        301336  0.873    Europe\nJapan              127.061   4602367        377930  0.891      Asia\nUnited Kingdom      64.511   2950039        242495  0.907    Europe\nUnited States      318.523  17348075       9525067  0.915   America",
            "text/html": "<div>\n<style scoped>\n    .dataframe tbody tr th:only-of-type {\n        vertical-align: middle;\n    }\n\n    .dataframe tbody tr th {\n        vertical-align: top;\n    }\n\n    .dataframe thead th {\n        text-align: right;\n    }\n</style>\n<table border=\"1\" class=\"dataframe\">\n  <thead>\n    <tr style=\"text-align: right;\">\n      <th></th>\n      <th>Population</th>\n      <th>GDP</th>\n      <th>Surface Area</th>\n      <th>HDI</th>\n      <th>Continent</th>\n    </tr>\n  </thead>\n  <tbody>\n    <tr>\n      <th>Canada</th>\n      <td>35.467</td>\n      <td>1785387</td>\n      <td>9984670</td>\n      <td>0.913</td>\n      <td>America</td>\n    </tr>\n    <tr>\n      <th>France</th>\n      <td>63.951</td>\n      <td>2833687</td>\n      <td>640679</td>\n      <td>0.888</td>\n      <td>Europe</td>\n    </tr>\n    <tr>\n      <th>Germany</th>\n      <td>80.940</td>\n      <td>3874437</td>\n      <td>357114</td>\n      <td>0.916</td>\n      <td>Europe</td>\n    </tr>\n    <tr>\n      <th>Italy</th>\n      <td>60.665</td>\n      <td>2167744</td>\n      <td>301336</td>\n      <td>0.873</td>\n      <td>Europe</td>\n    </tr>\n    <tr>\n      <th>Japan</th>\n      <td>127.061</td>\n      <td>4602367</td>\n      <td>377930</td>\n      <td>0.891</td>\n      <td>Asia</td>\n    </tr>\n    <tr>\n      <th>United Kingdom</th>\n      <td>64.511</td>\n      <td>2950039</td>\n      <td>242495</td>\n      <td>0.907</td>\n      <td>Europe</td>\n    </tr>\n    <tr>\n      <th>United States</th>\n      <td>318.523</td>\n      <td>17348075</td>\n      <td>9525067</td>\n      <td>0.915</td>\n      <td>America</td>\n    </tr>\n  </tbody>\n</table>\n</div>"
          },
          "metadata": {}
        }
      ]
    },
    {
      "cell_type": "code",
      "source": "df.columns",
      "metadata": {
        "trusted": true
      },
      "execution_count": 33,
      "outputs": [
        {
          "execution_count": 33,
          "output_type": "execute_result",
          "data": {
            "text/plain": "Index(['Population', 'GDP', 'Surface Area', 'HDI', 'Continent'], dtype='object')"
          },
          "metadata": {}
        }
      ]
    },
    {
      "cell_type": "code",
      "source": "df.index",
      "metadata": {
        "trusted": true
      },
      "execution_count": 34,
      "outputs": [
        {
          "execution_count": 34,
          "output_type": "execute_result",
          "data": {
            "text/plain": "Index(['Canada', 'France', 'Germany', 'Italy', 'Japan', 'United Kingdom',\n       'United States'],\n      dtype='object')"
          },
          "metadata": {}
        }
      ]
    },
    {
      "cell_type": "markdown",
      "source": "- Dataframe hakkında hızlı bir bilgi almak istersek .info() methodunu kullanabiliriz",
      "metadata": {}
    },
    {
      "cell_type": "code",
      "source": "df.info()",
      "metadata": {
        "trusted": true
      },
      "execution_count": 36,
      "outputs": [
        {
          "name": "stdout",
          "text": "<class 'pandas.core.frame.DataFrame'>\nIndex: 7 entries, Canada to United States\nData columns (total 5 columns):\n #   Column        Non-Null Count  Dtype  \n---  ------        --------------  -----  \n 0   Population    7 non-null      float64\n 1   GDP           7 non-null      int64  \n 2   Surface Area  7 non-null      int64  \n 3   HDI           7 non-null      float64\n 4   Continent     7 non-null      object \ndtypes: float64(2), int64(2), object(1)\nmemory usage: 280.0+ bytes\n",
          "output_type": "stream"
        }
      ]
    },
    {
      "cell_type": "code",
      "source": "df.size",
      "metadata": {
        "trusted": true
      },
      "execution_count": 37,
      "outputs": [
        {
          "execution_count": 37,
          "output_type": "execute_result",
          "data": {
            "text/plain": "35"
          },
          "metadata": {}
        }
      ]
    },
    {
      "cell_type": "code",
      "source": "df.shape",
      "metadata": {
        "trusted": true
      },
      "execution_count": 38,
      "outputs": [
        {
          "execution_count": 38,
          "output_type": "execute_result",
          "data": {
            "text/plain": "(7, 5)"
          },
          "metadata": {}
        }
      ]
    },
    {
      "cell_type": "markdown",
      "source": "- Dataframe hakkında kısa bir istatistik özet için .describe() methodunu kullanırız",
      "metadata": {}
    },
    {
      "cell_type": "code",
      "source": "df.describe()",
      "metadata": {
        "trusted": true
      },
      "execution_count": 40,
      "outputs": [
        {
          "execution_count": 40,
          "output_type": "execute_result",
          "data": {
            "text/plain": "       Population           GDP  Surface Area       HDI\ncount    7.000000  7.000000e+00  7.000000e+00  7.000000\nmean   107.302571  5.080248e+06  3.061327e+06  0.900429\nstd     97.249970  5.494020e+06  4.576187e+06  0.016592\nmin     35.467000  1.785387e+06  2.424950e+05  0.873000\n25%     62.308000  2.500716e+06  3.292250e+05  0.889500\n50%     64.511000  2.950039e+06  3.779300e+05  0.907000\n75%    104.000500  4.238402e+06  5.082873e+06  0.914000\nmax    318.523000  1.734808e+07  9.984670e+06  0.916000",
            "text/html": "<div>\n<style scoped>\n    .dataframe tbody tr th:only-of-type {\n        vertical-align: middle;\n    }\n\n    .dataframe tbody tr th {\n        vertical-align: top;\n    }\n\n    .dataframe thead th {\n        text-align: right;\n    }\n</style>\n<table border=\"1\" class=\"dataframe\">\n  <thead>\n    <tr style=\"text-align: right;\">\n      <th></th>\n      <th>Population</th>\n      <th>GDP</th>\n      <th>Surface Area</th>\n      <th>HDI</th>\n    </tr>\n  </thead>\n  <tbody>\n    <tr>\n      <th>count</th>\n      <td>7.000000</td>\n      <td>7.000000e+00</td>\n      <td>7.000000e+00</td>\n      <td>7.000000</td>\n    </tr>\n    <tr>\n      <th>mean</th>\n      <td>107.302571</td>\n      <td>5.080248e+06</td>\n      <td>3.061327e+06</td>\n      <td>0.900429</td>\n    </tr>\n    <tr>\n      <th>std</th>\n      <td>97.249970</td>\n      <td>5.494020e+06</td>\n      <td>4.576187e+06</td>\n      <td>0.016592</td>\n    </tr>\n    <tr>\n      <th>min</th>\n      <td>35.467000</td>\n      <td>1.785387e+06</td>\n      <td>2.424950e+05</td>\n      <td>0.873000</td>\n    </tr>\n    <tr>\n      <th>25%</th>\n      <td>62.308000</td>\n      <td>2.500716e+06</td>\n      <td>3.292250e+05</td>\n      <td>0.889500</td>\n    </tr>\n    <tr>\n      <th>50%</th>\n      <td>64.511000</td>\n      <td>2.950039e+06</td>\n      <td>3.779300e+05</td>\n      <td>0.907000</td>\n    </tr>\n    <tr>\n      <th>75%</th>\n      <td>104.000500</td>\n      <td>4.238402e+06</td>\n      <td>5.082873e+06</td>\n      <td>0.914000</td>\n    </tr>\n    <tr>\n      <th>max</th>\n      <td>318.523000</td>\n      <td>1.734808e+07</td>\n      <td>9.984670e+06</td>\n      <td>0.916000</td>\n    </tr>\n  </tbody>\n</table>\n</div>"
          },
          "metadata": {}
        }
      ]
    },
    {
      "cell_type": "code",
      "source": "df.dtypes",
      "metadata": {
        "trusted": true
      },
      "execution_count": 41,
      "outputs": [
        {
          "execution_count": 41,
          "output_type": "execute_result",
          "data": {
            "text/plain": "Population      float64\nGDP               int64\nSurface Area      int64\nHDI             float64\nContinent        object\ndtype: object"
          },
          "metadata": {}
        }
      ]
    },
    {
      "cell_type": "code",
      "source": "df.dtypes.value_counts()",
      "metadata": {
        "trusted": true
      },
      "execution_count": 42,
      "outputs": [
        {
          "execution_count": 42,
          "output_type": "execute_result",
          "data": {
            "text/plain": "float64    2\nint64      2\nobject     1\ndtype: int64"
          },
          "metadata": {}
        }
      ]
    },
    {
      "cell_type": "markdown",
      "source": "### Indexleme, Secme ve Bölme \n\n- DataFrame'deki bireysel sütunlar düzenli indexleme ile seçilebilir. Her sütun bir Series'i temsil eder.",
      "metadata": {}
    },
    {
      "cell_type": "code",
      "source": "df[\"Population\"]",
      "metadata": {
        "trusted": true
      },
      "execution_count": 43,
      "outputs": [
        {
          "execution_count": 43,
          "output_type": "execute_result",
          "data": {
            "text/plain": "Canada             35.467\nFrance             63.951\nGermany            80.940\nItaly              60.665\nJapan             127.061\nUnited Kingdom     64.511\nUnited States     318.523\nName: Population, dtype: float64"
          },
          "metadata": {}
        }
      ]
    },
    {
      "cell_type": "code",
      "source": "df.Population",
      "metadata": {
        "trusted": true
      },
      "execution_count": 44,
      "outputs": [
        {
          "execution_count": 44,
          "output_type": "execute_result",
          "data": {
            "text/plain": "Canada             35.467\nFrance             63.951\nGermany            80.940\nItaly              60.665\nJapan             127.061\nUnited Kingdom     64.511\nUnited States     318.523\nName: Population, dtype: float64"
          },
          "metadata": {}
        }
      ]
    },
    {
      "cell_type": "markdown",
      "source": "- .loc ve iloc yatay olarak veri aktarır. Farkı ise .loc'ta indexin ismini, .iloc'ta ise indexin pozisyonunun sayısal değerini kullanırız",
      "metadata": {}
    },
    {
      "cell_type": "code",
      "source": "df.loc[\"Canada\"]",
      "metadata": {
        "trusted": true
      },
      "execution_count": 48,
      "outputs": [
        {
          "execution_count": 48,
          "output_type": "execute_result",
          "data": {
            "text/plain": "Population       35.467\nGDP             1785387\nSurface Area    9984670\nHDI               0.913\nContinent       America\nName: Canada, dtype: object"
          },
          "metadata": {}
        }
      ]
    },
    {
      "cell_type": "code",
      "source": "df.iloc[-1]",
      "metadata": {
        "trusted": true
      },
      "execution_count": 49,
      "outputs": [
        {
          "execution_count": 49,
          "output_type": "execute_result",
          "data": {
            "text/plain": "Population       318.523\nGDP             17348075\nSurface Area     9525067\nHDI                0.915\nContinent        America\nName: United States, dtype: object"
          },
          "metadata": {}
        }
      ]
    },
    {
      "cell_type": "code",
      "source": "type(df.iloc[-1])",
      "metadata": {
        "trusted": true
      },
      "execution_count": 50,
      "outputs": [
        {
          "execution_count": 50,
          "output_type": "execute_result",
          "data": {
            "text/plain": "pandas.core.series.Series"
          },
          "metadata": {}
        }
      ]
    },
    {
      "cell_type": "markdown",
      "source": "- to_frame() methodu ile bir Series'i tekrar bir dataframe'e dönüştürebiliriz.",
      "metadata": {}
    },
    {
      "cell_type": "markdown",
      "source": "df[\"Population\"].to_frame()",
      "metadata": {}
    },
    {
      "cell_type": "markdown",
      "source": "- Çoklu bir şekilde de sütun seçebiliriz.",
      "metadata": {}
    },
    {
      "cell_type": "code",
      "source": "df[[ \"Population\", \"GDP\" ]]",
      "metadata": {
        "trusted": true
      },
      "execution_count": 54,
      "outputs": [
        {
          "execution_count": 54,
          "output_type": "execute_result",
          "data": {
            "text/plain": "                Population       GDP\nCanada              35.467   1785387\nFrance              63.951   2833687\nGermany             80.940   3874437\nItaly               60.665   2167744\nJapan              127.061   4602367\nUnited Kingdom      64.511   2950039\nUnited States      318.523  17348075",
            "text/html": "<div>\n<style scoped>\n    .dataframe tbody tr th:only-of-type {\n        vertical-align: middle;\n    }\n\n    .dataframe tbody tr th {\n        vertical-align: top;\n    }\n\n    .dataframe thead th {\n        text-align: right;\n    }\n</style>\n<table border=\"1\" class=\"dataframe\">\n  <thead>\n    <tr style=\"text-align: right;\">\n      <th></th>\n      <th>Population</th>\n      <th>GDP</th>\n    </tr>\n  </thead>\n  <tbody>\n    <tr>\n      <th>Canada</th>\n      <td>35.467</td>\n      <td>1785387</td>\n    </tr>\n    <tr>\n      <th>France</th>\n      <td>63.951</td>\n      <td>2833687</td>\n    </tr>\n    <tr>\n      <th>Germany</th>\n      <td>80.940</td>\n      <td>3874437</td>\n    </tr>\n    <tr>\n      <th>Italy</th>\n      <td>60.665</td>\n      <td>2167744</td>\n    </tr>\n    <tr>\n      <th>Japan</th>\n      <td>127.061</td>\n      <td>4602367</td>\n    </tr>\n    <tr>\n      <th>United Kingdom</th>\n      <td>64.511</td>\n      <td>2950039</td>\n    </tr>\n    <tr>\n      <th>United States</th>\n      <td>318.523</td>\n      <td>17348075</td>\n    </tr>\n  </tbody>\n</table>\n</div>"
          },
          "metadata": {}
        }
      ]
    },
    {
      "cell_type": "code",
      "source": "df[1:3]",
      "metadata": {
        "trusted": true
      },
      "execution_count": 55,
      "outputs": [
        {
          "execution_count": 55,
          "output_type": "execute_result",
          "data": {
            "text/plain": "         Population      GDP  Surface Area    HDI Continent\nFrance       63.951  2833687        640679  0.888    Europe\nGermany      80.940  3874437        357114  0.916    Europe",
            "text/html": "<div>\n<style scoped>\n    .dataframe tbody tr th:only-of-type {\n        vertical-align: middle;\n    }\n\n    .dataframe tbody tr th {\n        vertical-align: top;\n    }\n\n    .dataframe thead th {\n        text-align: right;\n    }\n</style>\n<table border=\"1\" class=\"dataframe\">\n  <thead>\n    <tr style=\"text-align: right;\">\n      <th></th>\n      <th>Population</th>\n      <th>GDP</th>\n      <th>Surface Area</th>\n      <th>HDI</th>\n      <th>Continent</th>\n    </tr>\n  </thead>\n  <tbody>\n    <tr>\n      <th>France</th>\n      <td>63.951</td>\n      <td>2833687</td>\n      <td>640679</td>\n      <td>0.888</td>\n      <td>Europe</td>\n    </tr>\n    <tr>\n      <th>Germany</th>\n      <td>80.940</td>\n      <td>3874437</td>\n      <td>357114</td>\n      <td>0.916</td>\n      <td>Europe</td>\n    </tr>\n  </tbody>\n</table>\n</div>"
          },
          "metadata": {}
        }
      ]
    },
    {
      "cell_type": "markdown",
      "source": "- Üstteki gibi belirli satırlara ulaşamak istediğimizde, .loc() ve .iloc() methodlarını kullanmak daha efektif olacaktır.",
      "metadata": {}
    },
    {
      "cell_type": "code",
      "source": "df.loc[\"France\": \"Italy\"]",
      "metadata": {
        "trusted": true
      },
      "execution_count": 58,
      "outputs": [
        {
          "execution_count": 58,
          "output_type": "execute_result",
          "data": {
            "text/plain": "         Population      GDP  Surface Area    HDI Continent\nFrance       63.951  2833687        640679  0.888    Europe\nGermany      80.940  3874437        357114  0.916    Europe\nItaly        60.665  2167744        301336  0.873    Europe",
            "text/html": "<div>\n<style scoped>\n    .dataframe tbody tr th:only-of-type {\n        vertical-align: middle;\n    }\n\n    .dataframe tbody tr th {\n        vertical-align: top;\n    }\n\n    .dataframe thead th {\n        text-align: right;\n    }\n</style>\n<table border=\"1\" class=\"dataframe\">\n  <thead>\n    <tr style=\"text-align: right;\">\n      <th></th>\n      <th>Population</th>\n      <th>GDP</th>\n      <th>Surface Area</th>\n      <th>HDI</th>\n      <th>Continent</th>\n    </tr>\n  </thead>\n  <tbody>\n    <tr>\n      <th>France</th>\n      <td>63.951</td>\n      <td>2833687</td>\n      <td>640679</td>\n      <td>0.888</td>\n      <td>Europe</td>\n    </tr>\n    <tr>\n      <th>Germany</th>\n      <td>80.940</td>\n      <td>3874437</td>\n      <td>357114</td>\n      <td>0.916</td>\n      <td>Europe</td>\n    </tr>\n    <tr>\n      <th>Italy</th>\n      <td>60.665</td>\n      <td>2167744</td>\n      <td>301336</td>\n      <td>0.873</td>\n      <td>Europe</td>\n    </tr>\n  </tbody>\n</table>\n</div>"
          },
          "metadata": {}
        }
      ]
    },
    {
      "cell_type": "markdown",
      "source": "- Sadece belirli bir sütuna ulaşmak için bir sütun ismi de ekleyebiliriz",
      "metadata": {}
    },
    {
      "cell_type": "code",
      "source": "df.loc[\"France\" : \"Italy\", \"Population\"]",
      "metadata": {
        "trusted": true
      },
      "execution_count": 59,
      "outputs": [
        {
          "execution_count": 59,
          "output_type": "execute_result",
          "data": {
            "text/plain": "France     63.951\nGermany    80.940\nItaly      60.665\nName: Population, dtype: float64"
          },
          "metadata": {}
        }
      ]
    },
    {
      "cell_type": "markdown",
      "source": "- Veya belirli sütunlara ulaşmak istersek:",
      "metadata": {}
    },
    {
      "cell_type": "code",
      "source": "df.loc[\"France\" : \"Italy\", [\"Population\" , \"GDP\"] ]",
      "metadata": {
        "trusted": true
      },
      "execution_count": 63,
      "outputs": [
        {
          "execution_count": 63,
          "output_type": "execute_result",
          "data": {
            "text/plain": "         Population      GDP\nFrance       63.951  2833687\nGermany      80.940  3874437\nItaly        60.665  2167744",
            "text/html": "<div>\n<style scoped>\n    .dataframe tbody tr th:only-of-type {\n        vertical-align: middle;\n    }\n\n    .dataframe tbody tr th {\n        vertical-align: top;\n    }\n\n    .dataframe thead th {\n        text-align: right;\n    }\n</style>\n<table border=\"1\" class=\"dataframe\">\n  <thead>\n    <tr style=\"text-align: right;\">\n      <th></th>\n      <th>Population</th>\n      <th>GDP</th>\n    </tr>\n  </thead>\n  <tbody>\n    <tr>\n      <th>France</th>\n      <td>63.951</td>\n      <td>2833687</td>\n    </tr>\n    <tr>\n      <th>Germany</th>\n      <td>80.940</td>\n      <td>3874437</td>\n    </tr>\n    <tr>\n      <th>Italy</th>\n      <td>60.665</td>\n      <td>2167744</td>\n    </tr>\n  </tbody>\n</table>\n</div>"
          },
          "metadata": {}
        }
      ]
    },
    {
      "cell_type": "markdown",
      "source": "- .iloc()'da aynı sekilde calisabilir.",
      "metadata": {}
    },
    {
      "cell_type": "code",
      "source": "df.iloc[ [0, 1, -1] ]",
      "metadata": {
        "trusted": true
      },
      "execution_count": 64,
      "outputs": [
        {
          "execution_count": 64,
          "output_type": "execute_result",
          "data": {
            "text/plain": "               Population       GDP  Surface Area    HDI Continent\nCanada             35.467   1785387       9984670  0.913   America\nFrance             63.951   2833687        640679  0.888    Europe\nUnited States     318.523  17348075       9525067  0.915   America",
            "text/html": "<div>\n<style scoped>\n    .dataframe tbody tr th:only-of-type {\n        vertical-align: middle;\n    }\n\n    .dataframe tbody tr th {\n        vertical-align: top;\n    }\n\n    .dataframe thead th {\n        text-align: right;\n    }\n</style>\n<table border=\"1\" class=\"dataframe\">\n  <thead>\n    <tr style=\"text-align: right;\">\n      <th></th>\n      <th>Population</th>\n      <th>GDP</th>\n      <th>Surface Area</th>\n      <th>HDI</th>\n      <th>Continent</th>\n    </tr>\n  </thead>\n  <tbody>\n    <tr>\n      <th>Canada</th>\n      <td>35.467</td>\n      <td>1785387</td>\n      <td>9984670</td>\n      <td>0.913</td>\n      <td>America</td>\n    </tr>\n    <tr>\n      <th>France</th>\n      <td>63.951</td>\n      <td>2833687</td>\n      <td>640679</td>\n      <td>0.888</td>\n      <td>Europe</td>\n    </tr>\n    <tr>\n      <th>United States</th>\n      <td>318.523</td>\n      <td>17348075</td>\n      <td>9525067</td>\n      <td>0.915</td>\n      <td>America</td>\n    </tr>\n  </tbody>\n</table>\n</div>"
          },
          "metadata": {}
        }
      ]
    },
    {
      "cell_type": "code",
      "source": "df.iloc[1:3]",
      "metadata": {
        "trusted": true
      },
      "execution_count": 65,
      "outputs": [
        {
          "execution_count": 65,
          "output_type": "execute_result",
          "data": {
            "text/plain": "         Population      GDP  Surface Area    HDI Continent\nFrance       63.951  2833687        640679  0.888    Europe\nGermany      80.940  3874437        357114  0.916    Europe",
            "text/html": "<div>\n<style scoped>\n    .dataframe tbody tr th:only-of-type {\n        vertical-align: middle;\n    }\n\n    .dataframe tbody tr th {\n        vertical-align: top;\n    }\n\n    .dataframe thead th {\n        text-align: right;\n    }\n</style>\n<table border=\"1\" class=\"dataframe\">\n  <thead>\n    <tr style=\"text-align: right;\">\n      <th></th>\n      <th>Population</th>\n      <th>GDP</th>\n      <th>Surface Area</th>\n      <th>HDI</th>\n      <th>Continent</th>\n    </tr>\n  </thead>\n  <tbody>\n    <tr>\n      <th>France</th>\n      <td>63.951</td>\n      <td>2833687</td>\n      <td>640679</td>\n      <td>0.888</td>\n      <td>Europe</td>\n    </tr>\n    <tr>\n      <th>Germany</th>\n      <td>80.940</td>\n      <td>3874437</td>\n      <td>357114</td>\n      <td>0.916</td>\n      <td>Europe</td>\n    </tr>\n  </tbody>\n</table>\n</div>"
          },
          "metadata": {}
        }
      ]
    },
    {
      "cell_type": "code",
      "source": "df.iloc[1:3, 3]",
      "metadata": {
        "trusted": true
      },
      "execution_count": 66,
      "outputs": [
        {
          "execution_count": 66,
          "output_type": "execute_result",
          "data": {
            "text/plain": "France     0.888\nGermany    0.916\nName: HDI, dtype: float64"
          },
          "metadata": {}
        }
      ]
    },
    {
      "cell_type": "code",
      "source": "df.iloc[1:3, [0,3]]",
      "metadata": {
        "trusted": true
      },
      "execution_count": 67,
      "outputs": [
        {
          "execution_count": 67,
          "output_type": "execute_result",
          "data": {
            "text/plain": "         Population    HDI\nFrance       63.951  0.888\nGermany      80.940  0.916",
            "text/html": "<div>\n<style scoped>\n    .dataframe tbody tr th:only-of-type {\n        vertical-align: middle;\n    }\n\n    .dataframe tbody tr th {\n        vertical-align: top;\n    }\n\n    .dataframe thead th {\n        text-align: right;\n    }\n</style>\n<table border=\"1\" class=\"dataframe\">\n  <thead>\n    <tr style=\"text-align: right;\">\n      <th></th>\n      <th>Population</th>\n      <th>HDI</th>\n    </tr>\n  </thead>\n  <tbody>\n    <tr>\n      <th>France</th>\n      <td>63.951</td>\n      <td>0.888</td>\n    </tr>\n    <tr>\n      <th>Germany</th>\n      <td>80.940</td>\n      <td>0.916</td>\n    </tr>\n  </tbody>\n</table>\n</div>"
          },
          "metadata": {}
        }
      ]
    },
    {
      "cell_type": "markdown",
      "source": "### Koşullu Seçme (Boolean Arrays)\n\n- pandas.Series'te gördüğümüz tüm koşullu seçmeler, dataframe'ler için de geçerlidir.",
      "metadata": {}
    },
    {
      "cell_type": "markdown",
      "source": "df",
      "metadata": {}
    },
    {
      "cell_type": "code",
      "source": "df.Population > 70",
      "metadata": {
        "trusted": true
      },
      "execution_count": 70,
      "outputs": [
        {
          "execution_count": 70,
          "output_type": "execute_result",
          "data": {
            "text/plain": "Canada            False\nFrance            False\nGermany            True\nItaly             False\nJapan              True\nUnited Kingdom    False\nUnited States      True\nName: Population, dtype: bool"
          },
          "metadata": {}
        }
      ]
    },
    {
      "cell_type": "code",
      "source": "df[df.Population > 70]",
      "metadata": {
        "trusted": true
      },
      "execution_count": 71,
      "outputs": [
        {
          "execution_count": 71,
          "output_type": "execute_result",
          "data": {
            "text/plain": "               Population       GDP  Surface Area    HDI Continent\nGermany            80.940   3874437        357114  0.916    Europe\nJapan             127.061   4602367        377930  0.891      Asia\nUnited States     318.523  17348075       9525067  0.915   America",
            "text/html": "<div>\n<style scoped>\n    .dataframe tbody tr th:only-of-type {\n        vertical-align: middle;\n    }\n\n    .dataframe tbody tr th {\n        vertical-align: top;\n    }\n\n    .dataframe thead th {\n        text-align: right;\n    }\n</style>\n<table border=\"1\" class=\"dataframe\">\n  <thead>\n    <tr style=\"text-align: right;\">\n      <th></th>\n      <th>Population</th>\n      <th>GDP</th>\n      <th>Surface Area</th>\n      <th>HDI</th>\n      <th>Continent</th>\n    </tr>\n  </thead>\n  <tbody>\n    <tr>\n      <th>Germany</th>\n      <td>80.940</td>\n      <td>3874437</td>\n      <td>357114</td>\n      <td>0.916</td>\n      <td>Europe</td>\n    </tr>\n    <tr>\n      <th>Japan</th>\n      <td>127.061</td>\n      <td>4602367</td>\n      <td>377930</td>\n      <td>0.891</td>\n      <td>Asia</td>\n    </tr>\n    <tr>\n      <th>United States</th>\n      <td>318.523</td>\n      <td>17348075</td>\n      <td>9525067</td>\n      <td>0.915</td>\n      <td>America</td>\n    </tr>\n  </tbody>\n</table>\n</div>"
          },
          "metadata": {}
        }
      ]
    },
    {
      "cell_type": "code",
      "source": "df.loc[df.Population > 70]",
      "metadata": {
        "trusted": true
      },
      "execution_count": 75,
      "outputs": [
        {
          "execution_count": 75,
          "output_type": "execute_result",
          "data": {
            "text/plain": "               Population       GDP  Surface Area    HDI Continent\nGermany            80.940   3874437        357114  0.916    Europe\nJapan             127.061   4602367        377930  0.891      Asia\nUnited States     318.523  17348075       9525067  0.915   America",
            "text/html": "<div>\n<style scoped>\n    .dataframe tbody tr th:only-of-type {\n        vertical-align: middle;\n    }\n\n    .dataframe tbody tr th {\n        vertical-align: top;\n    }\n\n    .dataframe thead th {\n        text-align: right;\n    }\n</style>\n<table border=\"1\" class=\"dataframe\">\n  <thead>\n    <tr style=\"text-align: right;\">\n      <th></th>\n      <th>Population</th>\n      <th>GDP</th>\n      <th>Surface Area</th>\n      <th>HDI</th>\n      <th>Continent</th>\n    </tr>\n  </thead>\n  <tbody>\n    <tr>\n      <th>Germany</th>\n      <td>80.940</td>\n      <td>3874437</td>\n      <td>357114</td>\n      <td>0.916</td>\n      <td>Europe</td>\n    </tr>\n    <tr>\n      <th>Japan</th>\n      <td>127.061</td>\n      <td>4602367</td>\n      <td>377930</td>\n      <td>0.891</td>\n      <td>Asia</td>\n    </tr>\n    <tr>\n      <th>United States</th>\n      <td>318.523</td>\n      <td>17348075</td>\n      <td>9525067</td>\n      <td>0.915</td>\n      <td>America</td>\n    </tr>\n  </tbody>\n</table>\n</div>"
          },
          "metadata": {}
        }
      ]
    },
    {
      "cell_type": "markdown",
      "source": "- Benzer olarak sadece bir sütuna bakmak istersek:",
      "metadata": {
        "tags": []
      }
    },
    {
      "cell_type": "code",
      "source": "df.loc[df.Population > 70, \"Population\"]",
      "metadata": {
        "trusted": true
      },
      "execution_count": 74,
      "outputs": [
        {
          "execution_count": 74,
          "output_type": "execute_result",
          "data": {
            "text/plain": "Germany           80.940\nJapan            127.061\nUnited States    318.523\nName: Population, dtype: float64"
          },
          "metadata": {}
        }
      ]
    },
    {
      "cell_type": "code",
      "source": "df.loc[df.Population > 70, [\"Population\", \"GDP\"] ]",
      "metadata": {
        "trusted": true
      },
      "execution_count": 77,
      "outputs": [
        {
          "execution_count": 77,
          "output_type": "execute_result",
          "data": {
            "text/plain": "               Population       GDP\nGermany            80.940   3874437\nJapan             127.061   4602367\nUnited States     318.523  17348075",
            "text/html": "<div>\n<style scoped>\n    .dataframe tbody tr th:only-of-type {\n        vertical-align: middle;\n    }\n\n    .dataframe tbody tr th {\n        vertical-align: top;\n    }\n\n    .dataframe thead th {\n        text-align: right;\n    }\n</style>\n<table border=\"1\" class=\"dataframe\">\n  <thead>\n    <tr style=\"text-align: right;\">\n      <th></th>\n      <th>Population</th>\n      <th>GDP</th>\n    </tr>\n  </thead>\n  <tbody>\n    <tr>\n      <th>Germany</th>\n      <td>80.940</td>\n      <td>3874437</td>\n    </tr>\n    <tr>\n      <th>Japan</th>\n      <td>127.061</td>\n      <td>4602367</td>\n    </tr>\n    <tr>\n      <th>United States</th>\n      <td>318.523</td>\n      <td>17348075</td>\n    </tr>\n  </tbody>\n</table>\n</div>"
          },
          "metadata": {}
        }
      ]
    },
    {
      "cell_type": "markdown",
      "source": "### Veri Çıkarma - Silme\n- Bazı durumlarda dataframe'den veri silmemiz de gerekebilir.",
      "metadata": {}
    },
    {
      "cell_type": "code",
      "source": "df.drop(\"Canada\")",
      "metadata": {
        "trusted": true
      },
      "execution_count": 79,
      "outputs": [
        {
          "execution_count": 79,
          "output_type": "execute_result",
          "data": {
            "text/plain": "                Population       GDP  Surface Area    HDI Continent\nFrance              63.951   2833687        640679  0.888    Europe\nGermany             80.940   3874437        357114  0.916    Europe\nItaly               60.665   2167744        301336  0.873    Europe\nJapan              127.061   4602367        377930  0.891      Asia\nUnited Kingdom      64.511   2950039        242495  0.907    Europe\nUnited States      318.523  17348075       9525067  0.915   America",
            "text/html": "<div>\n<style scoped>\n    .dataframe tbody tr th:only-of-type {\n        vertical-align: middle;\n    }\n\n    .dataframe tbody tr th {\n        vertical-align: top;\n    }\n\n    .dataframe thead th {\n        text-align: right;\n    }\n</style>\n<table border=\"1\" class=\"dataframe\">\n  <thead>\n    <tr style=\"text-align: right;\">\n      <th></th>\n      <th>Population</th>\n      <th>GDP</th>\n      <th>Surface Area</th>\n      <th>HDI</th>\n      <th>Continent</th>\n    </tr>\n  </thead>\n  <tbody>\n    <tr>\n      <th>France</th>\n      <td>63.951</td>\n      <td>2833687</td>\n      <td>640679</td>\n      <td>0.888</td>\n      <td>Europe</td>\n    </tr>\n    <tr>\n      <th>Germany</th>\n      <td>80.940</td>\n      <td>3874437</td>\n      <td>357114</td>\n      <td>0.916</td>\n      <td>Europe</td>\n    </tr>\n    <tr>\n      <th>Italy</th>\n      <td>60.665</td>\n      <td>2167744</td>\n      <td>301336</td>\n      <td>0.873</td>\n      <td>Europe</td>\n    </tr>\n    <tr>\n      <th>Japan</th>\n      <td>127.061</td>\n      <td>4602367</td>\n      <td>377930</td>\n      <td>0.891</td>\n      <td>Asia</td>\n    </tr>\n    <tr>\n      <th>United Kingdom</th>\n      <td>64.511</td>\n      <td>2950039</td>\n      <td>242495</td>\n      <td>0.907</td>\n      <td>Europe</td>\n    </tr>\n    <tr>\n      <th>United States</th>\n      <td>318.523</td>\n      <td>17348075</td>\n      <td>9525067</td>\n      <td>0.915</td>\n      <td>America</td>\n    </tr>\n  </tbody>\n</table>\n</div>"
          },
          "metadata": {}
        }
      ]
    },
    {
      "cell_type": "code",
      "source": "df.drop([\"Canada\", \"Japan\"])",
      "metadata": {
        "trusted": true
      },
      "execution_count": 80,
      "outputs": [
        {
          "execution_count": 80,
          "output_type": "execute_result",
          "data": {
            "text/plain": "                Population       GDP  Surface Area    HDI Continent\nFrance              63.951   2833687        640679  0.888    Europe\nGermany             80.940   3874437        357114  0.916    Europe\nItaly               60.665   2167744        301336  0.873    Europe\nUnited Kingdom      64.511   2950039        242495  0.907    Europe\nUnited States      318.523  17348075       9525067  0.915   America",
            "text/html": "<div>\n<style scoped>\n    .dataframe tbody tr th:only-of-type {\n        vertical-align: middle;\n    }\n\n    .dataframe tbody tr th {\n        vertical-align: top;\n    }\n\n    .dataframe thead th {\n        text-align: right;\n    }\n</style>\n<table border=\"1\" class=\"dataframe\">\n  <thead>\n    <tr style=\"text-align: right;\">\n      <th></th>\n      <th>Population</th>\n      <th>GDP</th>\n      <th>Surface Area</th>\n      <th>HDI</th>\n      <th>Continent</th>\n    </tr>\n  </thead>\n  <tbody>\n    <tr>\n      <th>France</th>\n      <td>63.951</td>\n      <td>2833687</td>\n      <td>640679</td>\n      <td>0.888</td>\n      <td>Europe</td>\n    </tr>\n    <tr>\n      <th>Germany</th>\n      <td>80.940</td>\n      <td>3874437</td>\n      <td>357114</td>\n      <td>0.916</td>\n      <td>Europe</td>\n    </tr>\n    <tr>\n      <th>Italy</th>\n      <td>60.665</td>\n      <td>2167744</td>\n      <td>301336</td>\n      <td>0.873</td>\n      <td>Europe</td>\n    </tr>\n    <tr>\n      <th>United Kingdom</th>\n      <td>64.511</td>\n      <td>2950039</td>\n      <td>242495</td>\n      <td>0.907</td>\n      <td>Europe</td>\n    </tr>\n    <tr>\n      <th>United States</th>\n      <td>318.523</td>\n      <td>17348075</td>\n      <td>9525067</td>\n      <td>0.915</td>\n      <td>America</td>\n    </tr>\n  </tbody>\n</table>\n</div>"
          },
          "metadata": {}
        }
      ]
    },
    {
      "cell_type": "code",
      "source": "df.drop(columns=[\"Population\", \"GDP\"])",
      "metadata": {
        "trusted": true
      },
      "execution_count": 81,
      "outputs": [
        {
          "execution_count": 81,
          "output_type": "execute_result",
          "data": {
            "text/plain": "                Surface Area    HDI Continent\nCanada               9984670  0.913   America\nFrance                640679  0.888    Europe\nGermany               357114  0.916    Europe\nItaly                 301336  0.873    Europe\nJapan                 377930  0.891      Asia\nUnited Kingdom        242495  0.907    Europe\nUnited States        9525067  0.915   America",
            "text/html": "<div>\n<style scoped>\n    .dataframe tbody tr th:only-of-type {\n        vertical-align: middle;\n    }\n\n    .dataframe tbody tr th {\n        vertical-align: top;\n    }\n\n    .dataframe thead th {\n        text-align: right;\n    }\n</style>\n<table border=\"1\" class=\"dataframe\">\n  <thead>\n    <tr style=\"text-align: right;\">\n      <th></th>\n      <th>Surface Area</th>\n      <th>HDI</th>\n      <th>Continent</th>\n    </tr>\n  </thead>\n  <tbody>\n    <tr>\n      <th>Canada</th>\n      <td>9984670</td>\n      <td>0.913</td>\n      <td>America</td>\n    </tr>\n    <tr>\n      <th>France</th>\n      <td>640679</td>\n      <td>0.888</td>\n      <td>Europe</td>\n    </tr>\n    <tr>\n      <th>Germany</th>\n      <td>357114</td>\n      <td>0.916</td>\n      <td>Europe</td>\n    </tr>\n    <tr>\n      <th>Italy</th>\n      <td>301336</td>\n      <td>0.873</td>\n      <td>Europe</td>\n    </tr>\n    <tr>\n      <th>Japan</th>\n      <td>377930</td>\n      <td>0.891</td>\n      <td>Asia</td>\n    </tr>\n    <tr>\n      <th>United Kingdom</th>\n      <td>242495</td>\n      <td>0.907</td>\n      <td>Europe</td>\n    </tr>\n    <tr>\n      <th>United States</th>\n      <td>9525067</td>\n      <td>0.915</td>\n      <td>America</td>\n    </tr>\n  </tbody>\n</table>\n</div>"
          },
          "metadata": {}
        }
      ]
    },
    {
      "cell_type": "code",
      "source": "",
      "metadata": {},
      "execution_count": null,
      "outputs": []
    }
  ]
}