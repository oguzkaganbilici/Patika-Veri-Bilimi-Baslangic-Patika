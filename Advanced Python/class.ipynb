{
  "metadata": {
    "language_info": {
      "codemirror_mode": {
        "name": "python",
        "version": 3
      },
      "file_extension": ".py",
      "mimetype": "text/x-python",
      "name": "python",
      "nbconvert_exporter": "python",
      "pygments_lexer": "ipython3",
      "version": "3.8"
    },
    "kernelspec": {
      "name": "python",
      "display_name": "Python (Pyodide)",
      "language": "python"
    }
  },
  "nbformat_minor": 4,
  "nbformat": 4,
  "cells": [
    {
      "cell_type": "markdown",
      "source": "# Class Tanımlamak\n - Class'lar hem fonksiyonalite hem de verileri bir arada tutmak için kullanılır.\n - Class içindeki verilere attribute, fonksiyonlara ise method denir.\n - Bir class tanımlarken class anahtar kelimesi yazılır.",
      "metadata": {}
    },
    {
      "cell_type": "markdown",
      "source": "## Attribute",
      "metadata": {}
    },
    {
      "cell_type": "code",
      "source": "class Employee:\n    def __init__(self, name, last, age, salary):\n        self.name = name\n        self.lastName = last\n        self.age = age\n        self.salary = salary",
      "metadata": {
        "trusted": true
      },
      "execution_count": 6,
      "outputs": []
    },
    {
      "cell_type": "markdown",
      "source": "- Bu class'tan bir obje oluşturmak istersek:",
      "metadata": {}
    },
    {
      "cell_type": "markdown",
      "source": "emp1 = Employee(\"Oğuz Kağan\", \"Bilici\", 26, 15000)",
      "metadata": {}
    },
    {
      "cell_type": "code",
      "source": "print(\"Name: \", emp1.name)\nprint(\"Lastname: \", emp1.lastName)\nprint(\"Age: \", emp1.age)\nprint(\"Salary: \", emp1.salary)",
      "metadata": {
        "trusted": true
      },
      "execution_count": 17,
      "outputs": [
        {
          "name": "stdout",
          "text": "Name:  Oğuz Kağan\nLastname:  Bilici\nAge:  26\nSalary:  15000\n",
          "output_type": "stream"
        }
      ]
    },
    {
      "cell_type": "code",
      "source": "emp2 = Employee(\"Adnan\", \"Bilici\", 54, 25000)",
      "metadata": {
        "trusted": true
      },
      "execution_count": 18,
      "outputs": []
    },
    {
      "cell_type": "code",
      "source": "print(\"Name: \", emp2.name)\nprint(\"Lastname: \", emp2.lastName)\nprint(\"Age: \", emp2.age)\nprint(\"Salary: \", emp2.salary)",
      "metadata": {
        "trusted": true
      },
      "execution_count": 19,
      "outputs": [
        {
          "name": "stdout",
          "text": "Name:  Adnan\nLastname:  Bilici\nAge:  54\nSalary:  25000\n",
          "output_type": "stream"
        }
      ]
    },
    {
      "cell_type": "markdown",
      "source": "- Burada yarattığımız her objenin bütün attribute'ları instance variable'dir. Her obje kendine özel attribute'a sahiptir, bunlar aynı da olabilir farklı da olabilir.",
      "metadata": {}
    },
    {
      "cell_type": "markdown",
      "source": "## Method",
      "metadata": {}
    },
    {
      "cell_type": "code",
      "source": "class Employee:\n    def __init__(self, name, last, age, salary):\n        self.name = name\n        self.lastName = last\n        self.age = age\n        self.salary = salary\n    \n    def printAll(self):\n        print(\"Name: \", self.name)\n        print(\"Lastname: \", self.lastName)\n        print(\"Age: \", self.age)\n        print(\"Salary: \", self.salary)",
      "metadata": {
        "trusted": true
      },
      "execution_count": 20,
      "outputs": []
    },
    {
      "cell_type": "code",
      "source": "emp1 = Employee(\"Oğuz Kağan\", \"Bilici\", 26, 15000)",
      "metadata": {
        "trusted": true
      },
      "execution_count": 21,
      "outputs": []
    },
    {
      "cell_type": "code",
      "source": "emp1.printAll()",
      "metadata": {
        "trusted": true
      },
      "execution_count": 22,
      "outputs": [
        {
          "name": "stdout",
          "text": "Name:  Oğuz Kağan\nLastname:  Bilici\nAge:  26\nSalary:  15000\n",
          "output_type": "stream"
        }
      ]
    },
    {
      "cell_type": "code",
      "source": "emp2 = Employee(\"Adnan\", \"Bilici\", 54, 25000)",
      "metadata": {
        "trusted": true
      },
      "execution_count": 23,
      "outputs": []
    },
    {
      "cell_type": "code",
      "source": "emp2.printAll()",
      "metadata": {
        "trusted": true
      },
      "execution_count": 24,
      "outputs": [
        {
          "name": "stdout",
          "text": "Name:  Adnan\nLastname:  Bilici\nAge:  54\nSalary:  25000\n",
          "output_type": "stream"
        }
      ]
    },
    {
      "cell_type": "markdown",
      "source": "# Class Variable",
      "metadata": {}
    },
    {
      "cell_type": "markdown",
      "source": "- __Instance Variable__: Class'tan yaratılan objelerin kendien özgü değişkenleridir. Yukarıdaki örnekte name, lastName, age, pay gibi.\n- __Class Variable__: Class'tan yaratılan tüm objelerde oluşan değişkenlerdir.\n- Instance variable her obje için farklı olabilir, yani her obje için farklılık gösterebilir ama class variable her obje için aynıdır.\n",
      "metadata": {}
    },
    {
      "cell_type": "code",
      "source": "class Employee:\n    \n    raise_rate = 0.30\n    \n    def __init__(self, name, last, age, salary):\n        self.name = name\n        self.lastName = last\n        self.age = age\n        self.salary = salary\n    \n    def printAll(self):\n        print(\"Name: \", self.name)\n        print(\"Lastname: \", self.lastName)\n        print(\"Age: \", self.age)\n        print(\"Salary: \", self.salary)\n        \n    def apply_raise(self):\n        self.salary += self.salary * Employee.raise_rate",
      "metadata": {
        "trusted": true
      },
      "execution_count": 25,
      "outputs": []
    },
    {
      "cell_type": "code",
      "source": "emp1 = Employee(\"Oğuz Kağan\", \"Bilici\", 26, 15000)",
      "metadata": {
        "trusted": true
      },
      "execution_count": 30,
      "outputs": []
    },
    {
      "cell_type": "code",
      "source": "# Class variable'a obje üzerinden veya class üzerinden ulaşabiliriz.\nemp1.raise_rate",
      "metadata": {
        "trusted": true
      },
      "execution_count": 31,
      "outputs": [
        {
          "execution_count": 31,
          "output_type": "execute_result",
          "data": {
            "text/plain": "0.3"
          },
          "metadata": {}
        }
      ]
    },
    {
      "cell_type": "code",
      "source": "emp1.salary",
      "metadata": {
        "trusted": true
      },
      "execution_count": 27,
      "outputs": [
        {
          "execution_count": 27,
          "output_type": "execute_result",
          "data": {
            "text/plain": "15000"
          },
          "metadata": {}
        }
      ]
    },
    {
      "cell_type": "code",
      "source": "emp1.apply_raise()",
      "metadata": {
        "trusted": true
      },
      "execution_count": 28,
      "outputs": []
    },
    {
      "cell_type": "code",
      "source": "emp1.salary",
      "metadata": {
        "trusted": true
      },
      "execution_count": 29,
      "outputs": [
        {
          "execution_count": 29,
          "output_type": "execute_result",
          "data": {
            "text/plain": "19500.0"
          },
          "metadata": {}
        }
      ]
    },
    {
      "cell_type": "code",
      "source": "emp2 = Employee(\"Adnan\", \"Bilici\", 54, 25000)",
      "metadata": {
        "trusted": true
      },
      "execution_count": 32,
      "outputs": []
    },
    {
      "cell_type": "code",
      "source": "emp2.apply_raise()",
      "metadata": {
        "trusted": true
      },
      "execution_count": 33,
      "outputs": []
    },
    {
      "cell_type": "code",
      "source": "emp2.printAll()",
      "metadata": {
        "trusted": true
      },
      "execution_count": 34,
      "outputs": [
        {
          "name": "stdout",
          "text": "Name:  Adnan\nLastname:  Bilici\nAge:  54\nSalary:  32500.0\n",
          "output_type": "stream"
        }
      ]
    },
    {
      "cell_type": "markdown",
      "source": "- obj.__dict__ -> o objenin veya class'ın attribute'larını döndürür.",
      "metadata": {}
    },
    {
      "cell_type": "code",
      "source": "emp1.__dict__",
      "metadata": {
        "trusted": true
      },
      "execution_count": 36,
      "outputs": [
        {
          "execution_count": 36,
          "output_type": "execute_result",
          "data": {
            "text/plain": "{'name': 'Oğuz Kağan', 'lastName': 'Bilici', 'age': 26, 'salary': 15000}"
          },
          "metadata": {}
        }
      ]
    },
    {
      "cell_type": "code",
      "source": "Employee.__dict__",
      "metadata": {
        "trusted": true
      },
      "execution_count": 37,
      "outputs": [
        {
          "execution_count": 37,
          "output_type": "execute_result",
          "data": {
            "text/plain": "mappingproxy({'__module__': '__main__',\n              'raise_rate': 0.3,\n              '__init__': <function __main__.Employee.__init__(self, name, last, age, salary)>,\n              'printAll': <function __main__.Employee.printAll(self)>,\n              'apply_raise': <function __main__.Employee.apply_raise(self)>,\n              '__dict__': <attribute '__dict__' of 'Employee' objects>,\n              '__weakref__': <attribute '__weakref__' of 'Employee' objects>,\n              '__doc__': None})"
          },
          "metadata": {}
        }
      ]
    },
    {
      "cell_type": "markdown",
      "source": "- Bir objeye yeni bir attribute eklemek istersek, o diğer objeleri veya class'ın kendisini etkilemez",
      "metadata": {}
    },
    {
      "cell_type": "code",
      "source": "emp1.experiement = 10",
      "metadata": {
        "trusted": true
      },
      "execution_count": 38,
      "outputs": []
    },
    {
      "cell_type": "code",
      "source": "emp1.__dict__",
      "metadata": {
        "trusted": true
      },
      "execution_count": 39,
      "outputs": [
        {
          "execution_count": 39,
          "output_type": "execute_result",
          "data": {
            "text/plain": "{'name': 'Oğuz Kağan',\n 'lastName': 'Bilici',\n 'age': 26,\n 'salary': 15000,\n 'experiement': 10}"
          },
          "metadata": {}
        }
      ]
    },
    {
      "cell_type": "code",
      "source": "emp2.__dict__",
      "metadata": {
        "trusted": true
      },
      "execution_count": 40,
      "outputs": [
        {
          "execution_count": 40,
          "output_type": "execute_result",
          "data": {
            "text/plain": "{'name': 'Adnan', 'lastName': 'Bilici', 'age': 54, 'salary': 32500.0}"
          },
          "metadata": {}
        }
      ]
    },
    {
      "cell_type": "code",
      "source": "Employee.__dict__",
      "metadata": {
        "trusted": true
      },
      "execution_count": 41,
      "outputs": [
        {
          "execution_count": 41,
          "output_type": "execute_result",
          "data": {
            "text/plain": "mappingproxy({'__module__': '__main__',\n              'raise_rate': 0.3,\n              '__init__': <function __main__.Employee.__init__(self, name, last, age, salary)>,\n              'printAll': <function __main__.Employee.printAll(self)>,\n              'apply_raise': <function __main__.Employee.apply_raise(self)>,\n              '__dict__': <attribute '__dict__' of 'Employee' objects>,\n              '__weakref__': <attribute '__weakref__' of 'Employee' objects>,\n              '__doc__': None})"
          },
          "metadata": {}
        }
      ]
    },
    {
      "cell_type": "markdown",
      "source": "- Bir class'a ait kaç tane obje olduğunu bulmak istersek, class'ı oluştururken bir değişken tanımlayabiliriz.",
      "metadata": {}
    },
    {
      "cell_type": "code",
      "source": "class Employee:\n    \n    raise_rate = 0.30\n    num_emp = 0 # toplam obje adedi\n    def __init__(self, name, last, age, salary):\n        self.name = name\n        self.lastName = last\n        self.age = age\n        self.salary = salary\n        Employee.num_emp += 1 # her yeni bir obje oluştugunda burası 1 artacaktır.\n        \n    def printAll(self):\n        print(\"Name: \", self.name)\n        print(\"Lastname: \", self.lastName)\n        print(\"Age: \", self.age)\n        print(\"Salary: \", self.salary)\n        \n    def apply_raise(self):\n        self.salary += self.salary * Employee.raise_rate",
      "metadata": {
        "trusted": true
      },
      "execution_count": 42,
      "outputs": []
    },
    {
      "cell_type": "code",
      "source": "# 10 tane rastgele obje olusturalim\n\nemp1 = Employee(\"Oğuz Kağan\", \"Bilici\", 26, 15000)\nemp2 = Employee(\"Adnan\", \"Bilici\", 54, 25000)\nemp3 = Employee(\"Oğuz Kağan\", \"Bilici\", 26, 15000)\nemp4 = Employee(\"Adnan\", \"Bilici\", 54, 25000)\nemp5 = Employee(\"Oğuz Kağan\", \"Bilici\", 26, 15000)\nemp6 = Employee(\"Adnan\", \"Bilici\", 54, 25000)\nemp7 = Employee(\"Oğuz Kağan\", \"Bilici\", 26, 15000)\nemp8 = Employee(\"Adnan\", \"Bilici\", 54, 25000)\nemp9 = Employee(\"Oğuz Kağan\", \"Bilici\", 26, 15000)\nemp10 = Employee(\"Adnan\", \"Bilici\", 54, 25000)",
      "metadata": {
        "trusted": true
      },
      "execution_count": 43,
      "outputs": []
    },
    {
      "cell_type": "code",
      "source": "Employee.num_emp",
      "metadata": {
        "trusted": true
      },
      "execution_count": 44,
      "outputs": [
        {
          "execution_count": 44,
          "output_type": "execute_result",
          "data": {
            "text/plain": "10"
          },
          "metadata": {}
        }
      ]
    },
    {
      "cell_type": "markdown",
      "source": "# Class Methods\n",
      "metadata": {}
    },
    {
      "cell_type": "markdown",
      "source": "- @classmethod decorator methodu ilk argüman olarak instance almak yerine class'ı alacak şekilde günceller. ",
      "metadata": {}
    },
    {
      "cell_type": "code",
      "source": "class Employee:\n    \n    raise_rate = 0.30\n    num_emp = 0 # toplam obje adedi\n    def __init__(self, name, last, age, salary):\n        self.name = name\n        self.lastName = last\n        self.age = age\n        self.salary = salary\n        Employee.num_emp += 1 # her yeni bir obje oluştugunda burası 1 artacaktır.\n        \n    def printAll(self):\n        print(\"Name: \", self.name)\n        print(\"Lastname: \", self.lastName)\n        print(\"Age: \", self.age)\n        print(\"Salary: \", self.salary)\n        \n    def apply_raise(self):\n        self.salary += self.salary * Employee.raise_rate\n      \n    @classmethod\n    def set_raise(cls, amount): # classmethodu tanimladiğimizda ilk input olarak class'i alir\n        cls.raise_rate = amount",
      "metadata": {
        "trusted": true
      },
      "execution_count": 54,
      "outputs": []
    },
    {
      "cell_type": "code",
      "source": "Employee.raise_rate",
      "metadata": {
        "trusted": true
      },
      "execution_count": 55,
      "outputs": [
        {
          "execution_count": 55,
          "output_type": "execute_result",
          "data": {
            "text/plain": "0.3"
          },
          "metadata": {}
        }
      ]
    },
    {
      "cell_type": "markdown",
      "source": "- Burada class'ın attribute'nu güncelleyebiliriz.",
      "metadata": {}
    },
    {
      "cell_type": "code",
      "source": "Employee.set_raise(0.4)",
      "metadata": {
        "trusted": true
      },
      "execution_count": 56,
      "outputs": []
    },
    {
      "cell_type": "code",
      "source": "Employee.raise_rate",
      "metadata": {
        "trusted": true
      },
      "execution_count": 57,
      "outputs": [
        {
          "execution_count": 57,
          "output_type": "execute_result",
          "data": {
            "text/plain": "0.4"
          },
          "metadata": {}
        }
      ]
    },
    {
      "cell_type": "markdown",
      "source": "- Yine aynı şekilde bunu obje ile de yapabiliriz.",
      "metadata": {}
    },
    {
      "cell_type": "code",
      "source": "emp1 = Employee(\"Oğuz Kağan\", \"Bilici\", 26, 15000)\n",
      "metadata": {
        "trusted": true
      },
      "execution_count": 58,
      "outputs": []
    },
    {
      "cell_type": "code",
      "source": "emp1.set_raise(0.7)",
      "metadata": {
        "trusted": true
      },
      "execution_count": 59,
      "outputs": []
    },
    {
      "cell_type": "code",
      "source": "print(emp1.raise_rate)\nprint(Employee.raise_rate)",
      "metadata": {
        "trusted": true
      },
      "execution_count": 60,
      "outputs": [
        {
          "name": "stdout",
          "text": "0.7\n0.7\n",
          "output_type": "stream"
        }
      ]
    },
    {
      "cell_type": "markdown",
      "source": "# Alternative Constructor\n- Örneğin oluşturacağımız objelerin instance variable'lari bir string içinde \"-\" ile ayrılmış şeklinde verilebilir.",
      "metadata": {}
    },
    {
      "cell_type": "code",
      "source": "emp1_str = \"Oğuz Kağan-Bilici-26-15000\" # gibi..",
      "metadata": {
        "trusted": true
      },
      "execution_count": 68,
      "outputs": []
    },
    {
      "cell_type": "code",
      "source": "class Employee:\n    \n    raise_rate = 0.30\n    num_emp = 0 # toplam obje adedi\n    def __init__(self, name, last, age, salary):\n        self.name = name\n        self.lastName = last\n        self.age = age\n        self.salary = salary\n        Employee.num_emp += 1 # her yeni bir obje oluştugunda burası 1 artacaktır.\n        \n    def printAll(self):\n        print(\"Name: \", self.name)\n        print(\"Lastname: \", self.lastName)\n        print(\"Age: \", self.age)\n        print(\"Salary: \", self.salary)\n        \n    def apply_raise(self):\n        self.salary += self.salary * Employee.raise_rate\n      \n    @classmethod\n    def set_raise(cls, amount): # classmethodu tanimladiğimizda ilk input olarak class'i alir\n        cls.raise_rate = amount\n    \n    @classmethod\n    def from_string(cls, empt_str):\n        name, lastName, age, sal = empt_str.split(\"-\")\n        return cls(name, lastName, int(age), float(sal))",
      "metadata": {
        "trusted": true
      },
      "execution_count": 76,
      "outputs": []
    },
    {
      "cell_type": "code",
      "source": "emp_1 = Employee.from_string(emp1_str)",
      "metadata": {
        "trusted": true
      },
      "execution_count": 79,
      "outputs": []
    },
    {
      "cell_type": "code",
      "source": "emp_1.__dict__",
      "metadata": {
        "trusted": true
      },
      "execution_count": 80,
      "outputs": [
        {
          "execution_count": 80,
          "output_type": "execute_result",
          "data": {
            "text/plain": "{'name': 'Oğuz Kağan', 'lastName': 'Bilici', 'age': 26, 'salary': 15000.0}"
          },
          "metadata": {}
        }
      ]
    },
    {
      "cell_type": "code",
      "source": "emp2_str = \"Adnan-Bilici-54-25000\"",
      "metadata": {
        "trusted": true
      },
      "execution_count": 81,
      "outputs": []
    },
    {
      "cell_type": "code",
      "source": "emp_2 = Employee.from_string(emp2_str)",
      "metadata": {
        "trusted": true
      },
      "execution_count": 83,
      "outputs": []
    },
    {
      "cell_type": "code",
      "source": "emp_2.__dict__",
      "metadata": {
        "trusted": true
      },
      "execution_count": 84,
      "outputs": [
        {
          "execution_count": 84,
          "output_type": "execute_result",
          "data": {
            "text/plain": "{'name': 'Adnan', 'lastName': 'Bilici', 'age': 54, 'salary': 25000.0}"
          },
          "metadata": {}
        }
      ]
    },
    {
      "cell_type": "markdown",
      "source": "# Static Method\n- Regular methodlar instance variable'lari methodlara \"self\" yardımıyla otomatik olarak verebiliyordu. Class methodları ise \"classmethod\" yardımıyla class'ı ilk argüman olarak verebiliyordu. \n- Static methodlar ise otomatik olarak bir şey vermeyen methodlardır.\n- Static methodları, instance variable'lara veya class'a methodun içerisinde erişim olmuyorsa kullanırız. ",
      "metadata": {}
    },
    {
      "cell_type": "code",
      "source": "class Employee:\n    \n    raise_rate = 0.30\n    num_emp = 0 # toplam obje adedi\n    def __init__(self, name, last, age, salary):\n        self.name = name\n        self.lastName = last\n        self.age = age\n        self.salary = salary\n        Employee.num_emp += 1 # her yeni bir obje oluştugunda burası 1 artacaktır.\n        \n    def printAll(self):\n        print(\"Name: \", self.name)\n        print(\"Lastname: \", self.lastName)\n        print(\"Age: \", self.age)\n        print(\"Salary: \", self.salary)\n        \n    def apply_raise(self):\n        self.salary += self.salary * Employee.raise_rate\n      \n    @classmethod\n    def set_raise(cls, amount): # classmethodu tanimladiğimizda ilk input olarak class'i alir\n        cls.raise_rate = amount\n    \n    @classmethod\n    def from_string(cls, empt_str):\n        name, lastName, age, sal = empt_str.split(\"-\")\n        return cls(name, lastName, int(age), float(sal))\n    \n    @staticmethod\n    def holiday_print(day):\n        if day == \"weekend\":\n            print(\"It's off day baby\")\n        else:\n            print(\"Work hard b.tch\")",
      "metadata": {
        "trusted": true
      },
      "execution_count": 87,
      "outputs": []
    },
    {
      "cell_type": "code",
      "source": "emp1 = Employee(\"Oğuz Kağan\", \"Bilici\", 26, 15000)\n",
      "metadata": {
        "trusted": true
      },
      "execution_count": 88,
      "outputs": []
    },
    {
      "cell_type": "code",
      "source": "emp1.holiday_print(\"weekend\")",
      "metadata": {
        "trusted": true
      },
      "execution_count": 90,
      "outputs": [
        {
          "name": "stdout",
          "text": "It's off day baby\n",
          "output_type": "stream"
        }
      ]
    },
    {
      "cell_type": "code",
      "source": "",
      "metadata": {},
      "execution_count": null,
      "outputs": []
    }
  ]
}