{
  "metadata": {
    "language_info": {
      "codemirror_mode": {
        "name": "python",
        "version": 3
      },
      "file_extension": ".py",
      "mimetype": "text/x-python",
      "name": "python",
      "nbconvert_exporter": "python",
      "pygments_lexer": "ipython3",
      "version": "3.8"
    },
    "kernelspec": {
      "name": "python",
      "display_name": "Python (Pyodide)",
      "language": "python"
    }
  },
  "nbformat_minor": 4,
  "nbformat": 4,
  "cells": [
    {
      "cell_type": "markdown",
      "source": "# Decorators\n- Decoratorler başka fonksiyonları parametre olarak alip yeni bir fonksiyon özelliği ile yeni bir fonksiyon döndüren yapılardir.",
      "metadata": {}
    },
    {
      "cell_type": "code",
      "source": "def print_func():\n    print(\"hello world\")",
      "metadata": {
        "trusted": true
      },
      "execution_count": 9,
      "outputs": []
    },
    {
      "cell_type": "code",
      "source": "def decorator_func(func):\n    def wrapper_func():\n        return func()\n    \n    return wrapper_func",
      "metadata": {
        "trusted": true
      },
      "execution_count": 12,
      "outputs": []
    },
    {
      "cell_type": "code",
      "source": "decorated_print = decorator_func(print_func)\ndecorated_print()",
      "metadata": {
        "trusted": true
      },
      "execution_count": 13,
      "outputs": [
        {
          "name": "stdout",
          "text": "hello world\n",
          "output_type": "stream"
        }
      ]
    },
    {
      "cell_type": "markdown",
      "source": "- Var olan fonksiyona fonksiyonu değiştirmeden yeni bir davranış kazandıracağız.",
      "metadata": {}
    },
    {
      "cell_type": "code",
      "source": "def decorator_func(func):\n    def wrapper_func():\n        print(f\"the name of the function is {func.__name__}\")\n        return func()\n    return wrapper_func",
      "metadata": {
        "trusted": true
      },
      "execution_count": 16,
      "outputs": []
    },
    {
      "cell_type": "code",
      "source": "decorated_print = decorator_func(print_func)\ndecorated_print()",
      "metadata": {
        "trusted": true
      },
      "execution_count": 19,
      "outputs": [
        {
          "name": "stdout",
          "text": "the name of the function is print_func\nhello world\n",
          "output_type": "stream"
        }
      ]
    },
    {
      "cell_type": "markdown",
      "source": "## Decorator'ü baska sekilde tanımlamak",
      "metadata": {}
    },
    {
      "cell_type": "code",
      "source": "# print_func => decorator_func(print_func)\n@decorator_func\ndef print_func():\n    print(\"hey\")",
      "metadata": {
        "trusted": true
      },
      "execution_count": 21,
      "outputs": []
    },
    {
      "cell_type": "code",
      "source": "print_func()",
      "metadata": {
        "trusted": true
      },
      "execution_count": 23,
      "outputs": [
        {
          "name": "stdout",
          "text": "the name of the function is print_func\nhey\n",
          "output_type": "stream"
        }
      ]
    },
    {
      "cell_type": "code",
      "source": "def func(name, number):\n    print(f\"Name: {name}, number: {number}\")",
      "metadata": {
        "trusted": true
      },
      "execution_count": 24,
      "outputs": []
    },
    {
      "cell_type": "code",
      "source": "func(\"jack\", 102)",
      "metadata": {
        "trusted": true
      },
      "execution_count": 25,
      "outputs": [
        {
          "name": "stdout",
          "text": "Name: jack, number: 102\n",
          "output_type": "stream"
        }
      ]
    },
    {
      "cell_type": "code",
      "source": "def decorate_func(func):\n    def wrapper(*args): # burada *args input olarak vermezsek input hatasi verecektir.\n        print(f\"the name of the function is {func.__name__}\")\n        return func(*args)\n    \n    return wrapper",
      "metadata": {
        "trusted": true
      },
      "execution_count": 36,
      "outputs": []
    },
    {
      "cell_type": "code",
      "source": "@decorate_func\ndef func(name, number):\n    print(f\"Name: {name}, number: {number}\")",
      "metadata": {
        "trusted": true
      },
      "execution_count": 37,
      "outputs": []
    },
    {
      "cell_type": "code",
      "source": "func(\"Jack\", 102)",
      "metadata": {
        "trusted": true
      },
      "execution_count": 38,
      "outputs": [
        {
          "name": "stdout",
          "text": "the name of the function is func\nName: Jack, number: 102\n",
          "output_type": "stream"
        }
      ]
    },
    {
      "cell_type": "code",
      "source": "",
      "metadata": {},
      "execution_count": null,
      "outputs": []
    }
  ]
}