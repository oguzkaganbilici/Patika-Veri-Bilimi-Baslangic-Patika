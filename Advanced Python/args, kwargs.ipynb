{
  "metadata": {
    "language_info": {
      "codemirror_mode": {
        "name": "python",
        "version": 3
      },
      "file_extension": ".py",
      "mimetype": "text/x-python",
      "name": "python",
      "nbconvert_exporter": "python",
      "pygments_lexer": "ipython3",
      "version": "3.8"
    },
    "kernelspec": {
      "name": "python",
      "display_name": "Python (Pyodide)",
      "language": "python"
    }
  },
  "nbformat_minor": 4,
  "nbformat": 4,
  "cells": [
    {
      "cell_type": "markdown",
      "source": "# ARGS\n- Değişken sayılı parametre vermenin bir yolu. list/tuple objelerini unpack yapar ama dictionary objelerinde işe yaramaz\n",
      "metadata": {}
    },
    {
      "cell_type": "code",
      "source": "def sum(numbers):\n    res = 0\n    for _ in numbers:\n        res += _\n    \n    return res",
      "metadata": {
        "trusted": true
      },
      "execution_count": 16,
      "outputs": []
    },
    {
      "cell_type": "code",
      "source": "numbers = [1,2,3,4,5,6]",
      "metadata": {
        "trusted": true
      },
      "execution_count": 17,
      "outputs": []
    },
    {
      "cell_type": "code",
      "source": "print(sum(numbers))",
      "metadata": {
        "trusted": true
      },
      "execution_count": 18,
      "outputs": [
        {
          "name": "stdout",
          "text": "21\n",
          "output_type": "stream"
        }
      ]
    },
    {
      "cell_type": "code",
      "source": "numbers2 = [1,2]",
      "metadata": {
        "trusted": true
      },
      "execution_count": 19,
      "outputs": []
    },
    {
      "cell_type": "code",
      "source": "print(sum(numbers2))",
      "metadata": {
        "trusted": true
      },
      "execution_count": 20,
      "outputs": [
        {
          "name": "stdout",
          "text": "3\n",
          "output_type": "stream"
        }
      ]
    },
    {
      "cell_type": "markdown",
      "source": "- *args'nin anlamı, en başta tuple gibi bir obje vardı fakat bu objeyi tek tek elemanlarına ayırdım gibi düşünebiliriz.",
      "metadata": {}
    },
    {
      "cell_type": "code",
      "source": "def sum(*args):\n    res = 0\n    for _ in args:\n        res += _\n    \n    return res",
      "metadata": {
        "trusted": true
      },
      "execution_count": 21,
      "outputs": []
    },
    {
      "cell_type": "code",
      "source": "sum(1,2,3,4,5,6)",
      "metadata": {
        "trusted": true
      },
      "execution_count": 22,
      "outputs": [
        {
          "execution_count": 22,
          "output_type": "execute_result",
          "data": {
            "text/plain": "21"
          },
          "metadata": {}
        }
      ]
    },
    {
      "cell_type": "markdown",
      "source": "- Burada args kelimesinin önemi yoktur. *'dan sonra herhangi bir kelime de kullanılabilir. *numbers, *sayilar, *aaaaa gibi.. ",
      "metadata": {}
    },
    {
      "cell_type": "code",
      "source": "def topla(*sayilar):\n    toplam = 0\n    for _ in sayilar:\n        toplam += _\n    return toplam",
      "metadata": {
        "trusted": true
      },
      "execution_count": 23,
      "outputs": []
    },
    {
      "cell_type": "code",
      "source": "topla(1,2,3,4,5,6,7,8,9,10)",
      "metadata": {
        "trusted": true
      },
      "execution_count": 24,
      "outputs": [
        {
          "execution_count": 24,
          "output_type": "execute_result",
          "data": {
            "text/plain": "55"
          },
          "metadata": {}
        }
      ]
    },
    {
      "cell_type": "markdown",
      "source": "# Kwargs\n\n- Fonksiyona değişken sayıda keyword argümanı verebilmemizi sağlar.\n",
      "metadata": {}
    },
    {
      "cell_type": "code",
      "source": "def students(**kwargs):\n    for _ in kwargs.values():\n        print(_)",
      "metadata": {
        "trusted": true
      },
      "execution_count": 27,
      "outputs": []
    },
    {
      "cell_type": "code",
      "source": "students(name=\"jake\", student_number=301)",
      "metadata": {
        "trusted": true
      },
      "execution_count": 28,
      "outputs": [
        {
          "name": "stdout",
          "text": "jake\n301\n",
          "output_type": "stream"
        }
      ]
    },
    {
      "cell_type": "markdown",
      "source": "## Args ve Kwargs birlikte kullanımı",
      "metadata": {}
    },
    {
      "cell_type": "markdown",
      "source": "* Burada önemli nokta args keyword'u, kwarg'tan önce kullanılmalıdır. Aksi takdirte hata alınır.",
      "metadata": {}
    },
    {
      "cell_type": "code",
      "source": "def weird(*args, **kwargs):\n    res = 0\n    for _ in args:\n        res += _\n    \n    for key,value in kwargs.items():\n        print(key, \": \", value)\n        \n    return res",
      "metadata": {
        "trusted": true
      },
      "execution_count": 33,
      "outputs": []
    },
    {
      "cell_type": "code",
      "source": "weird(1,2,3, name=\"Oguz\", student_number = 31)",
      "metadata": {
        "trusted": true
      },
      "execution_count": 34,
      "outputs": [
        {
          "name": "stdout",
          "text": "name :  Oguz\nstudent_number :  31\n",
          "output_type": "stream"
        },
        {
          "execution_count": 34,
          "output_type": "execute_result",
          "data": {
            "text/plain": "6"
          },
          "metadata": {}
        }
      ]
    },
    {
      "cell_type": "markdown",
      "source": "## Unpacking",
      "metadata": {}
    },
    {
      "cell_type": "code",
      "source": "l = [1,2,3,4]",
      "metadata": {
        "trusted": true
      },
      "execution_count": 38,
      "outputs": []
    },
    {
      "cell_type": "code",
      "source": "print(l)",
      "metadata": {
        "trusted": true
      },
      "execution_count": 39,
      "outputs": [
        {
          "name": "stdout",
          "text": "[1, 2, 3, 4]\n",
          "output_type": "stream"
        }
      ]
    },
    {
      "cell_type": "code",
      "source": "print(*l)",
      "metadata": {
        "trusted": true
      },
      "execution_count": 40,
      "outputs": [
        {
          "name": "stdout",
          "text": "1 2 3 4\n",
          "output_type": "stream"
        }
      ]
    },
    {
      "cell_type": "markdown",
      "source": "* iki listeyi bu şekilde de birleştirebiliriz.",
      "metadata": {}
    },
    {
      "cell_type": "code",
      "source": "l1 = [1,2,3,4]",
      "metadata": {
        "trusted": true
      },
      "execution_count": 41,
      "outputs": []
    },
    {
      "cell_type": "code",
      "source": "l2 = [5,6,7,8,9]",
      "metadata": {
        "trusted": true
      },
      "execution_count": 42,
      "outputs": []
    },
    {
      "cell_type": "code",
      "source": "l3 = [*l1, *l2]\nl3",
      "metadata": {
        "trusted": true
      },
      "execution_count": 44,
      "outputs": [
        {
          "execution_count": 44,
          "output_type": "execute_result",
          "data": {
            "text/plain": "[1, 2, 3, 4, 5, 6, 7, 8, 9]"
          },
          "metadata": {}
        }
      ]
    },
    {
      "cell_type": "code",
      "source": "d1 = {\"name\":\"oguz\", \"number\":31}",
      "metadata": {
        "trusted": true
      },
      "execution_count": 49,
      "outputs": []
    },
    {
      "cell_type": "code",
      "source": "d2 = {\"lastname\":\"kagan\", \"grade\":100}",
      "metadata": {
        "trusted": true
      },
      "execution_count": 54,
      "outputs": []
    },
    {
      "cell_type": "code",
      "source": "# d1 + d2 bu şekilde hata verecektir.\nd_merged = {**d1, **d2}\nd_merged",
      "metadata": {
        "trusted": true
      },
      "execution_count": 55,
      "outputs": [
        {
          "execution_count": 55,
          "output_type": "execute_result",
          "data": {
            "text/plain": "{'name': 'oguz', 'number': 31, 'lastname': 'kagan', 'grade': 100}"
          },
          "metadata": {}
        }
      ]
    },
    {
      "cell_type": "code",
      "source": "d3 = {\"name\":\"kagan\", \"grade\":80}",
      "metadata": {
        "trusted": true
      },
      "execution_count": 56,
      "outputs": []
    },
    {
      "cell_type": "code",
      "source": "d_merged_3 = {**d1, **d3}\nd_merged_3",
      "metadata": {
        "trusted": true
      },
      "execution_count": 57,
      "outputs": [
        {
          "execution_count": 57,
          "output_type": "execute_result",
          "data": {
            "text/plain": "{'name': 'kagan', 'number': 31, 'grade': 80}"
          },
          "metadata": {}
        }
      ]
    },
    {
      "cell_type": "code",
      "source": "str_list = [*\"hey this is a string\"]\nstr_list",
      "metadata": {
        "trusted": true
      },
      "execution_count": 61,
      "outputs": [
        {
          "execution_count": 61,
          "output_type": "execute_result",
          "data": {
            "text/plain": "['h',\n 'e',\n 'y',\n ' ',\n 't',\n 'h',\n 'i',\n 's',\n ' ',\n 'i',\n 's',\n ' ',\n 'a',\n ' ',\n 's',\n 't',\n 'r',\n 'i',\n 'n',\n 'g']"
          },
          "metadata": {}
        }
      ]
    },
    {
      "cell_type": "code",
      "source": "str_list2 = [*\"hey\"]\nstr_list2",
      "metadata": {
        "trusted": true
      },
      "execution_count": 63,
      "outputs": [
        {
          "execution_count": 63,
          "output_type": "execute_result",
          "data": {
            "text/plain": "['h', 'e', 'y']"
          },
          "metadata": {}
        }
      ]
    },
    {
      "cell_type": "code",
      "source": "",
      "metadata": {},
      "execution_count": null,
      "outputs": []
    }
  ]
}